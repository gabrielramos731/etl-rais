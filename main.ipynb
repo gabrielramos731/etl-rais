{
 "cells": [
  {
   "cell_type": "code",
   "execution_count": 12,
   "id": "59c196de",
   "metadata": {},
   "outputs": [],
   "source": [
    "import pandas as pd"
   ]
  },
  {
   "cell_type": "markdown",
   "id": "ef7fa09b",
   "metadata": {},
   "source": [
    "# RAIS"
   ]
  },
  {
   "cell_type": "markdown",
   "id": "3ab5cd04",
   "metadata": {},
   "source": [
    "## Estabelecimentos\n"
   ]
  },
  {
   "cell_type": "markdown",
   "id": "0e792065",
   "metadata": {},
   "source": [
    "TODO\n",
    "\n",
    "- Pipeline\n",
    "\n",
    "    - Leitura\n",
    "    - Tratamento\n",
    "    - Merging\n",
    "    - Load"
   ]
  },
  {
   "cell_type": "markdown",
   "id": "be661823",
   "metadata": {},
   "source": [
    "ano, uf, meso, micro, muni"
   ]
  },
  {
   "cell_type": "code",
   "execution_count": 13,
   "id": "44b0770c",
   "metadata": {},
   "outputs": [],
   "source": [
    "def read_data(caminho, ano)-> pd.DataFrame:\n",
    "    '''Read the ESTB data from a file and return a DataFrame.'''\n",
    "    try: # txt file\n",
    "        colunas = ['CNAE 2.0 Classe', 'Município']\n",
    "        df_estb = pd.read_csv(caminho + 'ESTB' + ano + '.txt', sep=';', encoding='latin1', usecols=colunas)\n",
    "        df_estb['ano'] = ano\n",
    "        extensao_arquivo = 'txt'\n",
    "        \n",
    "    except: # csv file\n",
    "        colunas = ['ano', 'id_municipio', 'cnae_2']\n",
    "        df_estb = pd.read_csv(caminho + 'ESTB' + ano + '.csv', usecols=colunas)\n",
    "        extensao_arquivo = 'csv'\n",
    "\n",
    "    return df_estb, extensao_arquivo"
   ]
  },
  {
   "cell_type": "code",
   "execution_count": 14,
   "id": "e8acb1a3",
   "metadata": {},
   "outputs": [],
   "source": [
    "def transform_data(df, extensao) -> pd.DataFrame:\n",
    "    '''Normaliza o tipo de cada coluna e obtem a cnae_secao de cnae_2'''\n",
    "    \n",
    "    if extensao == 'txt':\n",
    "        df.rename(columns={'Município': 'id_municipio', 'CNAE 2.0 Classe': 'cnae_2'}, inplace=True)\t\n",
    "        df = df[['ano', 'id_municipio', 'cnae_2']]\n",
    "    elif extensao == 'csv':\n",
    "        df.dropna(inplace=True)\n",
    "        df['id_municipio'] = df['id_municipio'].astype('int')\n",
    "        df['id_municipio'] = df['id_municipio'].apply(lambda x: int(x/10)) # remove 7'th dígito\n",
    "    \n",
    "    # para todos\n",
    "    df['ano'] = df['ano'].astype('int16')\n",
    "    \n",
    "    df['id_municipio'] = df['id_municipio'].astype('int')\n",
    "    \n",
    "    df.loc[:, 'cnae_2'] = df['cnae_2'].apply(lambda x: str(x).zfill(5))\n",
    "    df['cnae_secao'] = df['cnae_2'].apply(lambda x: x[:2])\n",
    "    df['cnae_secao'] = df['cnae_secao'].astype('int')\n",
    "    df.drop(columns=['cnae_2'], inplace=True)\n",
    "    return df"
   ]
  },
  {
   "cell_type": "code",
   "execution_count": 15,
   "id": "0a1cc66b",
   "metadata": {},
   "outputs": [],
   "source": [
    "def merge_municipios(df, caminho, loc) -> pd.DataFrame:\n",
    "    '''Faz o merge do id_municipio com os dados do dicionário'''\n",
    "    \n",
    "    colunas_muni = ['id_mesorregiao', 'id_microrregiao', 'id_municipio_6', 'nome', 'nome_microrregiao', 'nome_mesorregiao', 'sigla_uf', 'nome_uf', 'nome_regiao', 'centroide']\n",
    "    dicionario_muni = pd.read_csv(caminho, sep=',', usecols=colunas_muni)\n",
    "    dicionario_muni.rename(columns={'id_municipio_6': 'id_municipio', 'nome': 'municipio'}, inplace=True)\n",
    "    \n",
    "    df = pd.merge(df, dicionario_muni, on='id_municipio', how='left')\n",
    "    return df"
   ]
  },
  {
   "cell_type": "code",
   "execution_count": null,
   "id": "fb6048c5",
   "metadata": {},
   "outputs": [],
   "source": [
    "def merge_cnae(df, caminho) -> pd.DataFrame:\n",
    "    '''Faz o merge do cnae_secao com os dados do dicionário'''\n",
    "    \n",
    "    colunas_tmp = ['divisao','descricao_secao', 'descricao_divisao']\n",
    "    df_cnae = pd.read_csv(caminho, usecols=colunas_tmp)\n",
    "    df_cnae.rename(columns={'divisao': 'cnae_secao'}, inplace=True)\n",
    "    df_cnae.drop_duplicates(inplace=True)   \n",
    "    \n",
    "    df = pd.merge(df, df_cnae, on='cnae_secao', how='left')\n",
    "    df.drop(columns=['cnae_secao'], inplace=True)\n",
    "    return df"
   ]
  },
  {
   "cell_type": "code",
   "execution_count": 20,
   "id": "5aab8142",
   "metadata": {},
   "outputs": [],
   "source": [
    "def calc_ql(df, loc='meso') -> pd.DataFrame:\n",
    "    '''\n",
    "    Calcula o quociente de localização para níveis de meso, microrregião ou município tendo o estado como setor de referência\n",
    "    loc= 'meso', 'micro' ou 'muni'\n",
    "    '''\n",
    "    \n",
    "    if loc == 'meso':\n",
    "        numerador = df.groupby(['ano', 'sigla_uf', 'nome_mesorregiao', 'id_mesorregiao', 'descricao_secao']).size() / df.groupby(['ano', 'sigla_uf', 'nome_mesorregiao', 'id_mesorregiao']).size()\n",
    "        denominador = df.groupby(['ano', 'sigla_uf', 'descricao_secao']).size() / df.groupby(['ano', 'sigla_uf']).size()\n",
    "        ql = numerador / denominador\n",
    "        ql = ql.reset_index()\n",
    "        ql.columns = ['ano', 'sigla_uf', 'nome_mesorregiao', 'id_mesorregiao', 'descricao_secao', 'quociente_localizacao']\n",
    "        \n",
    "    elif loc == 'micro':\n",
    "        numerador = df.groupby(['ano', 'sigla_uf', 'nome_mesorregiao', 'nome_microrregiao', 'id_microrregiao', 'descricao_secao']).size() / df.groupby(['ano', 'sigla_uf', 'nome_mesorregiao', 'nome_microrregiao', 'id_microrregiao']).size()\n",
    "        denominador = df.groupby(['ano', 'sigla_uf', 'descricao_secao']).size() / df.groupby(['ano', 'sigla_uf']).size()\n",
    "        ql = numerador / denominador\n",
    "        ql = ql.reset_index()\n",
    "        ql.columns = ['ano', 'sigla_uf', 'nome_mesorregiao', 'nome_microrregiao', 'id_microrregiao', 'descricao_secao', 'quociente_localizacao']\n",
    "        \n",
    "    elif loc == 'muni':\n",
    "        numerador = df.groupby(['ano', 'sigla_uf', 'nome_mesorregiao', 'nome_microrregiao', 'id_municipio', 'municipio', 'centroide', 'descricao_secao']).size() / df.groupby(['ano', 'sigla_uf', 'nome_mesorregiao', 'nome_microrregiao', 'id_municipio', 'municipio', 'centroide']).size()\n",
    "        denominador = df.groupby(['ano', 'sigla_uf', 'descricao_secao']).size() / df.groupby(['ano', 'sigla_uf']).size()\n",
    "        ql = numerador / denominador\n",
    "        ql = ql.reset_index()\n",
    "        ql.columns = ['ano', 'sigla_uf', 'nome_mesorregiao', 'nome_microrregiao', 'id_municipio', 'municipio', 'centroide', 'descricao_secao', 'quociente_localizacao']\n",
    "\n",
    "    ql['quociente_localizacao'] = ql['quociente_localizacao'].map(lambda x: float(f\"{x:.2f}\"))\n",
    "\n",
    "    return ql\n"
   ]
  },
  {
   "cell_type": "code",
   "execution_count": 21,
   "id": "22367792",
   "metadata": {},
   "outputs": [],
   "source": [
    "def etl_pipeline(caminhos, ano_ini, ano_fim, loc):\n",
    "    '''\n",
    "    Executa o pipeline ETL para os dados de estabelecimentos da RAIS.\n",
    "\n",
    "    Parâmetros:\n",
    "        caminhos (dict): Dicionário com os caminhos dos arquivos de dados e dicionários.\n",
    "        ano_ini (int): Ano inicial do processamento.\n",
    "        ano_fim (int): Ano final do processamento.\n",
    "        loc (str): Nível de localização para o cálculo do quociente de localização ('meso', 'micro' ou 'muni').\n",
    "\n",
    "    Retorna:\n",
    "        pd.DataFrame: DataFrame com o quociente de localização calculado para o(s) ano(s) e nível selecionados.\n",
    "    '''\n",
    "    dfs_ql = []\n",
    "    for ano in range(ano_ini, ano_fim+1):\n",
    "        print('---', ano, '---')\n",
    "        df, extensao = read_data(caminhos['rais'], str(ano))\n",
    "        df = transform_data(df, extensao)\n",
    "        df = merge_municipios(df, caminhos['municipios'], loc)\n",
    "        df = merge_cnae(df, caminhos['cnae'])\n",
    "        \n",
    "        dfs_ql.append(calc_ql(df, loc))\n",
    "    df = pd.concat(dfs_ql)\n",
    "    return df"
   ]
  },
  {
   "cell_type": "markdown",
   "id": "9882d50f",
   "metadata": {},
   "source": [
    "---"
   ]
  },
  {
   "cell_type": "code",
   "execution_count": null,
   "id": "e724ae73",
   "metadata": {},
   "outputs": [
    {
     "name": "stdout",
     "output_type": "stream",
     "text": [
      "--- 2007 ---\n"
     ]
    },
    {
     "name": "stderr",
     "output_type": "stream",
     "text": [
      "C:\\Users\\ramos\\AppData\\Local\\Temp\\ipykernel_8152\\2608428684.py:17: FutureWarning: Setting an item of incompatible dtype is deprecated and will raise in a future error of pandas. Value '['64221' '64221' '64221' ... '71111' '81125' '94995']' has dtype incompatible with int64, please explicitly cast to a compatible dtype first.\n",
      "  df.loc[:, 'cnae_2'] = df['cnae_2'].apply(lambda x: str(x).zfill(5))\n"
     ]
    },
    {
     "name": "stdout",
     "output_type": "stream",
     "text": [
      "--- 2008 ---\n"
     ]
    },
    {
     "name": "stderr",
     "output_type": "stream",
     "text": [
      "C:\\Users\\ramos\\AppData\\Local\\Temp\\ipykernel_8152\\1388004525.py:5: DtypeWarning: Columns (3) have mixed types. Specify dtype option on import or set low_memory=False.\n",
      "  df_estb = pd.read_csv(caminho + 'ESTB' + ano + '.txt', sep=';', encoding='latin1', usecols=colunas)\n"
     ]
    },
    {
     "name": "stdout",
     "output_type": "stream",
     "text": [
      "--- 2009 ---\n"
     ]
    },
    {
     "name": "stderr",
     "output_type": "stream",
     "text": [
      "C:\\Users\\ramos\\AppData\\Local\\Temp\\ipykernel_8152\\2608428684.py:17: FutureWarning: Setting an item of incompatible dtype is deprecated and will raise in a future error of pandas. Value '['64221' '64221' '64221' ... '81125' '71111' '94308']' has dtype incompatible with int64, please explicitly cast to a compatible dtype first.\n",
      "  df.loc[:, 'cnae_2'] = df['cnae_2'].apply(lambda x: str(x).zfill(5))\n"
     ]
    },
    {
     "name": "stdout",
     "output_type": "stream",
     "text": [
      "--- 2010 ---\n"
     ]
    },
    {
     "name": "stderr",
     "output_type": "stream",
     "text": [
      "C:\\Users\\ramos\\AppData\\Local\\Temp\\ipykernel_8152\\2608428684.py:17: FutureWarning: Setting an item of incompatible dtype is deprecated and will raise in a future error of pandas. Value '['94995' '47890' '65201' ... '01512' '69117' '01113']' has dtype incompatible with int64, please explicitly cast to a compatible dtype first.\n",
      "  df.loc[:, 'cnae_2'] = df['cnae_2'].apply(lambda x: str(x).zfill(5))\n"
     ]
    },
    {
     "name": "stdout",
     "output_type": "stream",
     "text": [
      "--- 2011 ---\n"
     ]
    },
    {
     "name": "stderr",
     "output_type": "stream",
     "text": [
      "C:\\Users\\ramos\\AppData\\Local\\Temp\\ipykernel_8152\\2608428684.py:17: FutureWarning: Setting an item of incompatible dtype is deprecated and will raise in a future error of pandas. Value '['01113' '01113' '01113' ... '85996' '78205' '81214']' has dtype incompatible with int64, please explicitly cast to a compatible dtype first.\n",
      "  df.loc[:, 'cnae_2'] = df['cnae_2'].apply(lambda x: str(x).zfill(5))\n"
     ]
    },
    {
     "name": "stdout",
     "output_type": "stream",
     "text": [
      "--- 2012 ---\n"
     ]
    },
    {
     "name": "stderr",
     "output_type": "stream",
     "text": [
      "C:\\Users\\ramos\\AppData\\Local\\Temp\\ipykernel_8152\\2608428684.py:17: FutureWarning: Setting an item of incompatible dtype is deprecated and will raise in a future error of pandas. Value '['23303' '47547' '86305' ... '45200' '56112' '94120']' has dtype incompatible with int64, please explicitly cast to a compatible dtype first.\n",
      "  df.loc[:, 'cnae_2'] = df['cnae_2'].apply(lambda x: str(x).zfill(5))\n"
     ]
    },
    {
     "name": "stdout",
     "output_type": "stream",
     "text": [
      "--- 2013 ---\n"
     ]
    },
    {
     "name": "stderr",
     "output_type": "stream",
     "text": [
      "C:\\Users\\ramos\\AppData\\Local\\Temp\\ipykernel_8152\\2608428684.py:17: FutureWarning: Setting an item of incompatible dtype is deprecated and will raise in a future error of pandas. Value '['46397' '46397' '64247' ... '62015' '94910' '47440']' has dtype incompatible with int64, please explicitly cast to a compatible dtype first.\n",
      "  df.loc[:, 'cnae_2'] = df['cnae_2'].apply(lambda x: str(x).zfill(5))\n"
     ]
    },
    {
     "name": "stdout",
     "output_type": "stream",
     "text": [
      "--- 2014 ---\n"
     ]
    },
    {
     "name": "stderr",
     "output_type": "stream",
     "text": [
      "C:\\Users\\ramos\\AppData\\Local\\Temp\\ipykernel_8152\\2608428684.py:17: FutureWarning: Setting an item of incompatible dtype is deprecated and will raise in a future error of pandas. Value '['47741' '25128' '47318' ... '47512' '94308' '68102']' has dtype incompatible with int64, please explicitly cast to a compatible dtype first.\n",
      "  df.loc[:, 'cnae_2'] = df['cnae_2'].apply(lambda x: str(x).zfill(5))\n"
     ]
    },
    {
     "name": "stdout",
     "output_type": "stream",
     "text": [
      "--- 2015 ---\n"
     ]
    },
    {
     "name": "stderr",
     "output_type": "stream",
     "text": [
      "C:\\Users\\ramos\\AppData\\Local\\Temp\\ipykernel_8152\\2608428684.py:17: FutureWarning: Setting an item of incompatible dtype is deprecated and will raise in a future error of pandas. Value '['01130' '01130' '01130' ... '96092' '96092' '97005']' has dtype incompatible with int64, please explicitly cast to a compatible dtype first.\n",
      "  df.loc[:, 'cnae_2'] = df['cnae_2'].apply(lambda x: str(x).zfill(5))\n"
     ]
    },
    {
     "name": "stdout",
     "output_type": "stream",
     "text": [
      "--- 2016 ---\n"
     ]
    },
    {
     "name": "stderr",
     "output_type": "stream",
     "text": [
      "C:\\Users\\ramos\\AppData\\Local\\Temp\\ipykernel_8152\\2608428684.py:17: FutureWarning: Setting an item of incompatible dtype is deprecated and will raise in a future error of pandas. Value '['01113' '01121' '01130' ... '96033' '96033' '96092']' has dtype incompatible with int64, please explicitly cast to a compatible dtype first.\n",
      "  df.loc[:, 'cnae_2'] = df['cnae_2'].apply(lambda x: str(x).zfill(5))\n"
     ]
    },
    {
     "name": "stdout",
     "output_type": "stream",
     "text": [
      "--- 2017 ---\n"
     ]
    },
    {
     "name": "stderr",
     "output_type": "stream",
     "text": [
      "C:\\Users\\ramos\\AppData\\Local\\Temp\\ipykernel_8152\\2608428684.py:17: FutureWarning: Setting an item of incompatible dtype is deprecated and will raise in a future error of pandas. Value '['01113' '01113' '01113' ... '96033' '96033' '96092']' has dtype incompatible with int64, please explicitly cast to a compatible dtype first.\n",
      "  df.loc[:, 'cnae_2'] = df['cnae_2'].apply(lambda x: str(x).zfill(5))\n"
     ]
    },
    {
     "name": "stdout",
     "output_type": "stream",
     "text": [
      "--- 2018 ---\n"
     ]
    },
    {
     "name": "stderr",
     "output_type": "stream",
     "text": [
      "C:\\Users\\ramos\\AppData\\Local\\Temp\\ipykernel_8152\\2608428684.py:17: FutureWarning: Setting an item of incompatible dtype is deprecated and will raise in a future error of pandas. Value '['01113' '01113' '01113' ... '96092' '96092' '96092']' has dtype incompatible with int64, please explicitly cast to a compatible dtype first.\n",
      "  df.loc[:, 'cnae_2'] = df['cnae_2'].apply(lambda x: str(x).zfill(5))\n"
     ]
    },
    {
     "name": "stdout",
     "output_type": "stream",
     "text": [
      "--- 2019 ---\n"
     ]
    },
    {
     "name": "stderr",
     "output_type": "stream",
     "text": [
      "C:\\Users\\ramos\\AppData\\Local\\Temp\\ipykernel_8152\\1388004525.py:5: DtypeWarning: Columns (3) have mixed types. Specify dtype option on import or set low_memory=False.\n",
      "  df_estb = pd.read_csv(caminho + 'ESTB' + ano + '.txt', sep=';', encoding='latin1', usecols=colunas)\n"
     ]
    },
    {
     "name": "stdout",
     "output_type": "stream",
     "text": [
      "--- 2020 ---\n"
     ]
    },
    {
     "name": "stderr",
     "output_type": "stream",
     "text": [
      "C:\\Users\\ramos\\AppData\\Local\\Temp\\ipykernel_8152\\1388004525.py:5: DtypeWarning: Columns (3) have mixed types. Specify dtype option on import or set low_memory=False.\n",
      "  df_estb = pd.read_csv(caminho + 'ESTB' + ano + '.txt', sep=';', encoding='latin1', usecols=colunas)\n"
     ]
    },
    {
     "name": "stdout",
     "output_type": "stream",
     "text": [
      "--- 2021 ---\n"
     ]
    },
    {
     "name": "stderr",
     "output_type": "stream",
     "text": [
      "C:\\Users\\ramos\\AppData\\Local\\Temp\\ipykernel_8152\\2608428684.py:17: FutureWarning: Setting an item of incompatible dtype is deprecated and will raise in a future error of pandas. Value '['1113.0' '1113.0' '1113.0' ... '96033.0' '96092.0' '96092.0']' has dtype incompatible with float64, please explicitly cast to a compatible dtype first.\n",
      "  df.loc[:, 'cnae_2'] = df['cnae_2'].apply(lambda x: str(x).zfill(5))\n"
     ]
    },
    {
     "name": "stdout",
     "output_type": "stream",
     "text": [
      "--- 2022 ---\n"
     ]
    },
    {
     "name": "stderr",
     "output_type": "stream",
     "text": [
      "C:\\Users\\ramos\\AppData\\Local\\Temp\\ipykernel_8152\\2608428684.py:17: FutureWarning: Setting an item of incompatible dtype is deprecated and will raise in a future error of pandas. Value '['84116' '84230' '84116' ... '94910' '47121' '49302']' has dtype incompatible with int64, please explicitly cast to a compatible dtype first.\n",
      "  df.loc[:, 'cnae_2'] = df['cnae_2'].apply(lambda x: str(x).zfill(5))\n"
     ]
    },
    {
     "name": "stdout",
     "output_type": "stream",
     "text": [
      "--- 2023 ---\n"
     ]
    },
    {
     "name": "stderr",
     "output_type": "stream",
     "text": [
      "C:\\Users\\ramos\\AppData\\Local\\Temp\\ipykernel_8152\\2608428684.py:17: FutureWarning: Setting an item of incompatible dtype is deprecated and will raise in a future error of pandas. Value '['47890' '42995' '94308' ... '47822' '43118' '11135']' has dtype incompatible with int64, please explicitly cast to a compatible dtype first.\n",
      "  df.loc[:, 'cnae_2'] = df['cnae_2'].apply(lambda x: str(x).zfill(5))\n"
     ]
    },
    {
     "name": "stdout",
     "output_type": "stream",
     "text": [
      "--- 2024 ---\n"
     ]
    },
    {
     "name": "stderr",
     "output_type": "stream",
     "text": [
      "C:\\Users\\ramos\\AppData\\Local\\Temp\\ipykernel_8152\\2608428684.py:17: FutureWarning: Setting an item of incompatible dtype is deprecated and will raise in a future error of pandas. Value '['47725' '69117' '47121' ... '03124' '03124' '41204']' has dtype incompatible with int64, please explicitly cast to a compatible dtype first.\n",
      "  df.loc[:, 'cnae_2'] = df['cnae_2'].apply(lambda x: str(x).zfill(5))\n"
     ]
    },
    {
     "name": "stdout",
     "output_type": "stream",
     "text": [
      "--- muni ---\n"
     ]
    }
   ],
   "source": [
    "from pathlib import Path\n",
    "\n",
    "caminho = \"D:/dados/rais/estabelecimentos/\"\n",
    "caminho_dict_muni = \"dicionarios/dicionario_municipios.csv\"\n",
    "caminho_dict_cnae = \"dicionarios/dicionario_cnae_2.csv\"\n",
    "ano_ini = 2007\n",
    "ano_fim = 2024\n",
    "caminhos = {'rais': caminho, \n",
    "            'municipios': caminho_dict_muni, \n",
    "            'cnae': caminho_dict_cnae}\n",
    "\n",
    "for loc in ['muni', 'micro', 'meso']:\n",
    "    df_ql = etl_pipeline(caminhos, ano_ini, ano_fim, loc)\n",
    "    df_ql.to_csv(Path('indices_ql/indice_ql_' + loc + '.csv'), sep=';', index=False)\n",
    "    print('---', loc, '---')"
   ]
  },
  {
   "cell_type": "markdown",
   "id": "bdb180ed",
   "metadata": {},
   "source": [
    "---"
   ]
  }
 ],
 "metadata": {
  "kernelspec": {
   "display_name": "Python 3",
   "language": "python",
   "name": "python3"
  },
  "language_info": {
   "codemirror_mode": {
    "name": "ipython",
    "version": 3
   },
   "file_extension": ".py",
   "mimetype": "text/x-python",
   "name": "python",
   "nbconvert_exporter": "python",
   "pygments_lexer": "ipython3",
   "version": "3.13.0"
  }
 },
 "nbformat": 4,
 "nbformat_minor": 5
}
