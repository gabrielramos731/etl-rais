{
 "cells": [
  {
   "cell_type": "code",
   "execution_count": 1,
   "id": "59c196de",
   "metadata": {},
   "outputs": [],
   "source": [
    "import pandas as pd"
   ]
  },
  {
   "cell_type": "markdown",
   "id": "ef7fa09b",
   "metadata": {},
   "source": [
    "# RAIS"
   ]
  },
  {
   "cell_type": "markdown",
   "id": "3ab5cd04",
   "metadata": {},
   "source": [
    "## Estabelecimentos\n"
   ]
  },
  {
   "cell_type": "markdown",
   "id": "0e792065",
   "metadata": {},
   "source": [
    "TODO\n",
    "\n",
    "- Pipeline\n",
    "\n",
    "    - Leitura\n",
    "    - Tratamento\n",
    "    - Merging\n",
    "    - Load"
   ]
  },
  {
   "cell_type": "markdown",
   "id": "be661823",
   "metadata": {},
   "source": [
    "ano, uf, meso, micro, muni"
   ]
  },
  {
   "cell_type": "code",
   "execution_count": null,
   "id": "44b0770c",
   "metadata": {},
   "outputs": [],
   "source": [
    "def read_data(caminho, ano)-> pd.DataFrame:\n",
    "    '''Read the ESTB data from a file and return a DataFrame.'''\n",
    "    try: # txt file\n",
    "        colunas = ['CNAE 2.0 Classe', 'Município']\n",
    "        df_estb = pd.read_csv(caminho + 'ESTB' + ano + '.txt', sep=';', encoding='latin1', usecols=colunas)\n",
    "        df_estb['ano'] = ano\n",
    "        extensao_arquivo = 'txt'\n",
    "        \n",
    "    except: # csv file\n",
    "        colunas = ['ano', 'id_municipio', 'cnae_2']\n",
    "        df_estb = pd.read_csv(caminho + 'ESTB' + ano + '.csv', usecols=colunas)\n",
    "        extensao_arquivo = 'csv'\n",
    "\n",
    "    return df_estb, extensao_arquivo"
   ]
  },
  {
   "cell_type": "code",
   "execution_count": null,
   "id": "e8acb1a3",
   "metadata": {},
   "outputs": [],
   "source": [
    "def transform_data(df, extensao) -> pd.DataFrame:\n",
    "    '''Normaliza o tipo de cada coluna e obtem a cnae_secao de cnae_2'''\n",
    "    \n",
    "    if extensao == 'txt':\n",
    "        df.rename(columns={'Município': 'id_municipio', 'CNAE 2.0 Classe': 'cnae_2'}, inplace=True)\t\n",
    "        df = df[['ano', 'id_municipio', 'cnae_2']]\n",
    "    elif extensao == 'csv':\n",
    "        df.dropna(inplace=True)\n",
    "        df['id_municipio'] = df['id_municipio'].astype('int')\n",
    "        df['id_municipio'] = df['id_municipio'].apply(lambda x: int(x/10)) # remove 7'th dígito\n",
    "    \n",
    "    # para todos\n",
    "    df['ano'] = df['ano'].astype('int16')\n",
    "    \n",
    "    df['id_municipio'] = df['id_municipio'].astype('int')\n",
    "        \n",
    "    df.loc[:, 'cnae_2'] = df['cnae_2'].apply(lambda x: str(x).zfill(5))\n",
    "    df['cnae_secao'] = df['cnae_2'].apply(lambda x: x[:2])\n",
    "    df['cnae_secao'] = df['cnae_secao'].astype('int')\n",
    "    df.drop(columns=['cnae_2'], inplace=True)\n",
    "    return df"
   ]
  },
  {
   "cell_type": "code",
   "execution_count": null,
   "id": "0a1cc66b",
   "metadata": {},
   "outputs": [],
   "source": [
    "def merge_municipios(df, caminho) -> pd.DataFrame:\n",
    "    '''Faz o merge do id_municipio com os dados do dicionário'''\n",
    "    \n",
    "    colunas_muni = ['id_municipio_6', 'nome', 'nome_microrregiao', 'nome_mesorregiao', 'sigla_uf', 'nome_uf', 'nome_regiao']\n",
    "    dicionario_muni = pd.read_csv(caminho, sep=',', usecols=colunas_muni)\n",
    "    dicionario_muni.rename(columns={'id_municipio_6': 'id_municipio', 'nome': 'municipio'}, inplace=True)\n",
    "    \n",
    "    df = pd.merge(df, dicionario_muni, on='id_municipio', how='left')\n",
    "    df.drop(columns=['id_municipio'], inplace=True)\n",
    "    return df"
   ]
  },
  {
   "cell_type": "code",
   "execution_count": null,
   "id": "fb6048c5",
   "metadata": {},
   "outputs": [],
   "source": [
    "def merge_cnae(df, caminho) -> pd.DataFrame:\n",
    "    '''Faz o merge do cnae_secao com os dados do dicionário'''\n",
    "    \n",
    "    colunas_tmp = ['divisao','descricao_secao']\n",
    "    df_cnae = pd.read_csv(caminho, usecols=colunas_tmp)\n",
    "    df_cnae.rename(columns={'divisao': 'cnae_secao'}, inplace=True)\n",
    "    df_cnae.drop_duplicates(inplace=True)\n",
    "    \n",
    "    df = pd.merge(df, df_cnae, on='cnae_secao', how='left')\n",
    "    df.drop(columns=['cnae_secao'], inplace=True)\n",
    "    return df"
   ]
  },
  {
   "cell_type": "code",
   "execution_count": null,
   "id": "5aab8142",
   "metadata": {},
   "outputs": [],
   "source": [
    "def calc_ql(df, loc='meso') -> pd.DataFrame:\n",
    "    '''\n",
    "    Calcula o quociente de localização para níveis de meso, microrregião ou município tendo o estado como setor de referência\n",
    "    loc= 'meso', 'micro' ou 'muni'\n",
    "    '''\n",
    "    \n",
    "    if loc == 'meso':\n",
    "        numerador = df.groupby(['ano', 'sigla_uf', 'nome_mesorregiao', 'descricao_secao']).size() / df.groupby(['ano', 'sigla_uf', 'nome_mesorregiao']).size()\n",
    "        denominador = df.groupby(['ano', 'sigla_uf', 'descricao_secao']).size() / df.groupby(['ano', 'sigla_uf']).size()\n",
    "        ql = numerador / denominador\n",
    "        ql = ql.reset_index()\n",
    "        ql.columns = ['ano', 'sigla_uf', 'nome_mesorregiao', 'descricao_secao', 'quociente_localizacao']\n",
    "        \n",
    "    elif loc == 'micro':\n",
    "        numerador = df.groupby(['ano', 'sigla_uf', 'nome_mesorregiao', 'nome_microrregiao', 'descricao_secao']).size() / df.groupby(['ano', 'sigla_uf', 'nome_mesorregiao', 'nome_microrregiao']).size()\n",
    "        denominador = df.groupby(['ano', 'sigla_uf', 'descricao_secao']).size() / df.groupby(['ano', 'sigla_uf']).size()\n",
    "        ql = numerador / denominador\n",
    "        ql = ql.reset_index()\n",
    "        \n",
    "        ql.columns = ['ano', 'sigla_uf', 'nome_mesorregiao', 'nome_microrregiao', 'descricao_secao', 'quociente_localizacao']\n",
    "    elif loc == 'muni':\n",
    "        numerador = df.groupby(['ano', 'sigla_uf', 'nome_mesorregiao', 'nome_microrregiao', 'municipio', 'descricao_secao']).size() / df.groupby(['ano', 'sigla_uf', 'nome_mesorregiao', 'nome_microrregiao', 'municipio']).size()\n",
    "        denominador = df.groupby(['ano', 'sigla_uf', 'descricao_secao']).size() / df.groupby(['ano', 'sigla_uf']).size()\n",
    "        ql = numerador / denominador\n",
    "        ql = ql.reset_index()\n",
    "        ql.columns = ['ano', 'sigla_uf', 'nome_mesorregiao', 'nome_microrregiao', 'municipio', 'descricao_secao', 'quociente_localizacao']\n",
    "\n",
    "    ql['quociente_localizacao'] = ql['quociente_localizacao'].map(lambda x: float(f\"{x:.2f}\"))\n",
    "\n",
    "    return ql\n"
   ]
  },
  {
   "cell_type": "code",
   "execution_count": null,
   "id": "22367792",
   "metadata": {},
   "outputs": [],
   "source": [
    "def etl_pipeline(caminhos, ano_ini, ano_fim, loc):\n",
    "    '''\n",
    "    Executa o pipeline ETL para os dados de estabelecimentos da RAIS.\n",
    "\n",
    "    Parâmetros:\n",
    "        caminhos (dict): Dicionário com os caminhos dos arquivos de dados e dicionários.\n",
    "        ano_ini (int): Ano inicial do processamento.\n",
    "        ano_fim (int): Ano final do processamento.\n",
    "        loc (str): Nível de localização para o cálculo do quociente de localização ('meso', 'micro' ou 'muni').\n",
    "\n",
    "    Retorna:\n",
    "        pd.DataFrame: DataFrame com o quociente de localização calculado para o(s) ano(s) e nível selecionados.\n",
    "    '''\n",
    "    dfs_ql = []\n",
    "    for ano in range(ano_ini, ano_fim+1):\n",
    "        print('---', ano, '---')\n",
    "        df, extensao = read_data(caminhos['rais'], str(ano))\n",
    "        df = transform_data(df, extensao)\n",
    "        df = merge_municipios(df, caminhos['municipios'])\n",
    "        df = merge_cnae(df, caminhos['cnae'])\n",
    "        \n",
    "        dfs_ql.append(calc_ql(df, loc))\n",
    "    df = pd.concat(dfs_ql)\n",
    "    return df"
   ]
  },
  {
   "cell_type": "markdown",
   "id": "96c252a0",
   "metadata": {},
   "source": [
    "---"
   ]
  },
  {
   "cell_type": "code",
   "execution_count": 59,
   "id": "e724ae73",
   "metadata": {},
   "outputs": [
    {
     "name": "stdout",
     "output_type": "stream",
     "text": [
      "--- 2023 ---\n"
     ]
    },
    {
     "name": "stderr",
     "output_type": "stream",
     "text": [
      "C:\\Users\\ramos\\AppData\\Local\\Temp\\ipykernel_20772\\844555952.py:17: FutureWarning: Setting an item of incompatible dtype is deprecated and will raise in a future error of pandas. Value '['47890' '42995' '94308' ... '47822' '43118' '11135']' has dtype incompatible with int64, please explicitly cast to a compatible dtype first.\n",
      "  df.loc[:, 'cnae_2'] = df['cnae_2'].apply(lambda x: str(x).zfill(5))\n"
     ]
    },
    {
     "data": {
      "application/vnd.microsoft.datawrangler.viewer.v0+json": {
       "columns": [
        {
         "name": "index",
         "rawType": "int64",
         "type": "integer"
        },
        {
         "name": "ano",
         "rawType": "int16",
         "type": "integer"
        },
        {
         "name": "sigla_uf",
         "rawType": "object",
         "type": "string"
        },
        {
         "name": "nome_mesorregiao",
         "rawType": "object",
         "type": "string"
        },
        {
         "name": "nome_microrregiao",
         "rawType": "object",
         "type": "string"
        },
        {
         "name": "municipio",
         "rawType": "object",
         "type": "string"
        },
        {
         "name": "descricao_secao",
         "rawType": "object",
         "type": "string"
        },
        {
         "name": "quociente_localizacao",
         "rawType": "float64",
         "type": "float"
        }
       ],
       "conversionMethod": "pd.DataFrame",
       "ref": "e57ba72f-510d-4c72-955c-9f7eb7076560",
       "rows": [
        [
         "0",
         "2023",
         "AC",
         "Vale do Acre",
         "Brasiléia",
         "Assis Brasil",
         "Administração Pública, Defesa E Seguridade Social",
         "0.64"
        ],
        [
         "1",
         "2023",
         "AC",
         "Vale do Acre",
         "Brasiléia",
         "Brasiléia",
         "Administração Pública, Defesa E Seguridade Social",
         "0.18"
        ],
        [
         "2",
         "2023",
         "AC",
         "Vale do Acre",
         "Brasiléia",
         "Epitaciolândia",
         "Administração Pública, Defesa E Seguridade Social",
         "0.86"
        ],
        [
         "3",
         "2023",
         "AC",
         "Vale do Acre",
         "Brasiléia",
         "Xapuri",
         "Administração Pública, Defesa E Seguridade Social",
         "1.92"
        ],
        [
         "4",
         "2023",
         "AC",
         "Vale do Acre",
         "Rio Branco",
         "Acrelândia",
         "Administração Pública, Defesa E Seguridade Social",
         "2.56"
        ],
        [
         "5",
         "2023",
         "AC",
         "Vale do Acre",
         "Rio Branco",
         "Bujari",
         "Administração Pública, Defesa E Seguridade Social",
         "3.32"
        ],
        [
         "6",
         "2023",
         "AC",
         "Vale do Acre",
         "Rio Branco",
         "Capixaba",
         "Administração Pública, Defesa E Seguridade Social",
         "4.41"
        ],
        [
         "7",
         "2023",
         "AC",
         "Vale do Acre",
         "Rio Branco",
         "Plácido de Castro",
         "Administração Pública, Defesa E Seguridade Social",
         "2.32"
        ],
        [
         "8",
         "2023",
         "AC",
         "Vale do Acre",
         "Rio Branco",
         "Porto Acre",
         "Administração Pública, Defesa E Seguridade Social",
         "1.03"
        ],
        [
         "9",
         "2023",
         "AC",
         "Vale do Acre",
         "Rio Branco",
         "Rio Branco",
         "Administração Pública, Defesa E Seguridade Social",
         "1.44"
        ],
        [
         "10",
         "2023",
         "AC",
         "Vale do Acre",
         "Rio Branco",
         "Senador Guiomard",
         "Administração Pública, Defesa E Seguridade Social",
         "0.91"
        ],
        [
         "11",
         "2023",
         "AC",
         "Vale do Acre",
         "Sena Madureira",
         "Manoel Urbano",
         "Administração Pública, Defesa E Seguridade Social",
         "1.73"
        ],
        [
         "12",
         "2023",
         "AC",
         "Vale do Acre",
         "Sena Madureira",
         "Santa Rosa do Purus",
         "Administração Pública, Defesa E Seguridade Social",
         "5.71"
        ],
        [
         "13",
         "2023",
         "AC",
         "Vale do Acre",
         "Sena Madureira",
         "Sena Madureira",
         "Administração Pública, Defesa E Seguridade Social",
         "0.29"
        ],
        [
         "14",
         "2023",
         "AC",
         "Vale do Juruá",
         "Cruzeiro do Sul",
         "Cruzeiro do Sul",
         "Administração Pública, Defesa E Seguridade Social",
         "0.15"
        ],
        [
         "15",
         "2023",
         "AC",
         "Vale do Juruá",
         "Cruzeiro do Sul",
         "Marechal Thaumaturgo",
         "Administração Pública, Defesa E Seguridade Social",
         "1.51"
        ],
        [
         "16",
         "2023",
         "AC",
         "Vale do Juruá",
         "Cruzeiro do Sul",
         "Mâncio Lima",
         "Administração Pública, Defesa E Seguridade Social",
         "0.45"
        ],
        [
         "17",
         "2023",
         "AC",
         "Vale do Juruá",
         "Cruzeiro do Sul",
         "Porto Walter",
         "Administração Pública, Defesa E Seguridade Social",
         "1.67"
        ],
        [
         "18",
         "2023",
         "AC",
         "Vale do Juruá",
         "Cruzeiro do Sul",
         "Rodrigues Alves",
         "Administração Pública, Defesa E Seguridade Social",
         "0.18"
        ],
        [
         "19",
         "2023",
         "AC",
         "Vale do Juruá",
         "Tarauacá",
         "Feijó",
         "Administração Pública, Defesa E Seguridade Social",
         "0.31"
        ],
        [
         "20",
         "2023",
         "AC",
         "Vale do Juruá",
         "Tarauacá",
         "Jordão",
         "Administração Pública, Defesa E Seguridade Social",
         "6.29"
        ],
        [
         "21",
         "2023",
         "AC",
         "Vale do Juruá",
         "Tarauacá",
         "Tarauacá",
         "Administração Pública, Defesa E Seguridade Social",
         "0.54"
        ],
        [
         "22",
         "2023",
         "AC",
         "Vale do Acre",
         "Brasiléia",
         "Assis Brasil",
         "Agricultura, Pecuária, Produção Florestal, Pesca E Aquicultura",
         "1.85"
        ],
        [
         "23",
         "2023",
         "AC",
         "Vale do Acre",
         "Brasiléia",
         "Brasiléia",
         "Agricultura, Pecuária, Produção Florestal, Pesca E Aquicultura",
         "1.35"
        ],
        [
         "24",
         "2023",
         "AC",
         "Vale do Acre",
         "Brasiléia",
         "Epitaciolândia",
         "Agricultura, Pecuária, Produção Florestal, Pesca E Aquicultura",
         "0.47"
        ],
        [
         "25",
         "2023",
         "AC",
         "Vale do Acre",
         "Brasiléia",
         "Xapuri",
         "Agricultura, Pecuária, Produção Florestal, Pesca E Aquicultura",
         "0.48"
        ],
        [
         "26",
         "2023",
         "AC",
         "Vale do Acre",
         "Rio Branco",
         "Acrelândia",
         "Agricultura, Pecuária, Produção Florestal, Pesca E Aquicultura",
         "0.92"
        ],
        [
         "27",
         "2023",
         "AC",
         "Vale do Acre",
         "Rio Branco",
         "Bujari",
         "Agricultura, Pecuária, Produção Florestal, Pesca E Aquicultura",
         "1.01"
        ],
        [
         "28",
         "2023",
         "AC",
         "Vale do Acre",
         "Rio Branco",
         "Capixaba",
         "Agricultura, Pecuária, Produção Florestal, Pesca E Aquicultura",
         "0.76"
        ],
        [
         "29",
         "2023",
         "AC",
         "Vale do Acre",
         "Rio Branco",
         "Plácido de Castro",
         "Agricultura, Pecuária, Produção Florestal, Pesca E Aquicultura",
         "1.54"
        ],
        [
         "30",
         "2023",
         "AC",
         "Vale do Acre",
         "Rio Branco",
         "Porto Acre",
         "Agricultura, Pecuária, Produção Florestal, Pesca E Aquicultura",
         "1.8"
        ],
        [
         "31",
         "2023",
         "AC",
         "Vale do Acre",
         "Rio Branco",
         "Rio Branco",
         "Agricultura, Pecuária, Produção Florestal, Pesca E Aquicultura",
         "0.27"
        ],
        [
         "32",
         "2023",
         "AC",
         "Vale do Acre",
         "Rio Branco",
         "Senador Guiomard",
         "Agricultura, Pecuária, Produção Florestal, Pesca E Aquicultura",
         "0.97"
        ],
        [
         "33",
         "2023",
         "AC",
         "Vale do Acre",
         "Sena Madureira",
         "Manoel Urbano",
         "Agricultura, Pecuária, Produção Florestal, Pesca E Aquicultura",
         "1.67"
        ],
        [
         "34",
         "2023",
         "AC",
         "Vale do Acre",
         "Sena Madureira",
         "Santa Rosa do Purus",
         "Agricultura, Pecuária, Produção Florestal, Pesca E Aquicultura",
         "0.06"
        ],
        [
         "35",
         "2023",
         "AC",
         "Vale do Acre",
         "Sena Madureira",
         "Sena Madureira",
         "Agricultura, Pecuária, Produção Florestal, Pesca E Aquicultura",
         "1.69"
        ],
        [
         "36",
         "2023",
         "AC",
         "Vale do Juruá",
         "Cruzeiro do Sul",
         "Cruzeiro do Sul",
         "Agricultura, Pecuária, Produção Florestal, Pesca E Aquicultura",
         "1.49"
        ],
        [
         "37",
         "2023",
         "AC",
         "Vale do Juruá",
         "Cruzeiro do Sul",
         "Marechal Thaumaturgo",
         "Agricultura, Pecuária, Produção Florestal, Pesca E Aquicultura",
         "2.09"
        ],
        [
         "38",
         "2023",
         "AC",
         "Vale do Juruá",
         "Cruzeiro do Sul",
         "Mâncio Lima",
         "Agricultura, Pecuária, Produção Florestal, Pesca E Aquicultura",
         "2.31"
        ],
        [
         "39",
         "2023",
         "AC",
         "Vale do Juruá",
         "Cruzeiro do Sul",
         "Porto Walter",
         "Agricultura, Pecuária, Produção Florestal, Pesca E Aquicultura",
         "1.95"
        ],
        [
         "40",
         "2023",
         "AC",
         "Vale do Juruá",
         "Cruzeiro do Sul",
         "Rodrigues Alves",
         "Agricultura, Pecuária, Produção Florestal, Pesca E Aquicultura",
         "2.48"
        ],
        [
         "41",
         "2023",
         "AC",
         "Vale do Juruá",
         "Tarauacá",
         "Feijó",
         "Agricultura, Pecuária, Produção Florestal, Pesca E Aquicultura",
         "1.07"
        ],
        [
         "42",
         "2023",
         "AC",
         "Vale do Juruá",
         "Tarauacá",
         "Jordão",
         "Agricultura, Pecuária, Produção Florestal, Pesca E Aquicultura",
         "0.03"
        ],
        [
         "43",
         "2023",
         "AC",
         "Vale do Juruá",
         "Tarauacá",
         "Tarauacá",
         "Agricultura, Pecuária, Produção Florestal, Pesca E Aquicultura",
         "0.95"
        ],
        [
         "44",
         "2023",
         "AC",
         "Vale do Acre",
         "Brasiléia",
         "Assis Brasil",
         "Alojamento E Alimentação",
         "0.54"
        ],
        [
         "45",
         "2023",
         "AC",
         "Vale do Acre",
         "Brasiléia",
         "Brasiléia",
         "Alojamento E Alimentação",
         "0.74"
        ],
        [
         "46",
         "2023",
         "AC",
         "Vale do Acre",
         "Brasiléia",
         "Epitaciolândia",
         "Alojamento E Alimentação",
         "1.34"
        ],
        [
         "47",
         "2023",
         "AC",
         "Vale do Acre",
         "Brasiléia",
         "Xapuri",
         "Alojamento E Alimentação",
         "1.46"
        ],
        [
         "48",
         "2023",
         "AC",
         "Vale do Acre",
         "Rio Branco",
         "Acrelândia",
         "Alojamento E Alimentação",
         "1.0"
        ],
        [
         "49",
         "2023",
         "AC",
         "Vale do Acre",
         "Rio Branco",
         "Bujari",
         "Alojamento E Alimentação",
         "1.2"
        ]
       ],
       "shape": {
        "columns": 7,
        "rows": 93191
       }
      },
      "text/html": [
       "<div>\n",
       "<style scoped>\n",
       "    .dataframe tbody tr th:only-of-type {\n",
       "        vertical-align: middle;\n",
       "    }\n",
       "\n",
       "    .dataframe tbody tr th {\n",
       "        vertical-align: top;\n",
       "    }\n",
       "\n",
       "    .dataframe thead th {\n",
       "        text-align: right;\n",
       "    }\n",
       "</style>\n",
       "<table border=\"1\" class=\"dataframe\">\n",
       "  <thead>\n",
       "    <tr style=\"text-align: right;\">\n",
       "      <th></th>\n",
       "      <th>ano</th>\n",
       "      <th>sigla_uf</th>\n",
       "      <th>nome_mesorregiao</th>\n",
       "      <th>nome_microrregiao</th>\n",
       "      <th>municipio</th>\n",
       "      <th>descricao_secao</th>\n",
       "      <th>quociente_localizacao</th>\n",
       "    </tr>\n",
       "  </thead>\n",
       "  <tbody>\n",
       "    <tr>\n",
       "      <th>0</th>\n",
       "      <td>2023</td>\n",
       "      <td>AC</td>\n",
       "      <td>Vale do Acre</td>\n",
       "      <td>Brasiléia</td>\n",
       "      <td>Assis Brasil</td>\n",
       "      <td>Administração Pública, Defesa E Seguridade Social</td>\n",
       "      <td>0.64</td>\n",
       "    </tr>\n",
       "    <tr>\n",
       "      <th>1</th>\n",
       "      <td>2023</td>\n",
       "      <td>AC</td>\n",
       "      <td>Vale do Acre</td>\n",
       "      <td>Brasiléia</td>\n",
       "      <td>Brasiléia</td>\n",
       "      <td>Administração Pública, Defesa E Seguridade Social</td>\n",
       "      <td>0.18</td>\n",
       "    </tr>\n",
       "    <tr>\n",
       "      <th>2</th>\n",
       "      <td>2023</td>\n",
       "      <td>AC</td>\n",
       "      <td>Vale do Acre</td>\n",
       "      <td>Brasiléia</td>\n",
       "      <td>Epitaciolândia</td>\n",
       "      <td>Administração Pública, Defesa E Seguridade Social</td>\n",
       "      <td>0.86</td>\n",
       "    </tr>\n",
       "    <tr>\n",
       "      <th>3</th>\n",
       "      <td>2023</td>\n",
       "      <td>AC</td>\n",
       "      <td>Vale do Acre</td>\n",
       "      <td>Brasiléia</td>\n",
       "      <td>Xapuri</td>\n",
       "      <td>Administração Pública, Defesa E Seguridade Social</td>\n",
       "      <td>1.92</td>\n",
       "    </tr>\n",
       "    <tr>\n",
       "      <th>4</th>\n",
       "      <td>2023</td>\n",
       "      <td>AC</td>\n",
       "      <td>Vale do Acre</td>\n",
       "      <td>Rio Branco</td>\n",
       "      <td>Acrelândia</td>\n",
       "      <td>Administração Pública, Defesa E Seguridade Social</td>\n",
       "      <td>2.56</td>\n",
       "    </tr>\n",
       "    <tr>\n",
       "      <th>...</th>\n",
       "      <td>...</td>\n",
       "      <td>...</td>\n",
       "      <td>...</td>\n",
       "      <td>...</td>\n",
       "      <td>...</td>\n",
       "      <td>...</td>\n",
       "      <td>...</td>\n",
       "    </tr>\n",
       "    <tr>\n",
       "      <th>93186</th>\n",
       "      <td>2023</td>\n",
       "      <td>TO</td>\n",
       "      <td>Oriental do Tocantins</td>\n",
       "      <td>Porto Nacional</td>\n",
       "      <td>Palmas</td>\n",
       "      <td>Água, Esgoto, Atividades De Gestão De Resíduos...</td>\n",
       "      <td>0.96</td>\n",
       "    </tr>\n",
       "    <tr>\n",
       "      <th>93187</th>\n",
       "      <td>2023</td>\n",
       "      <td>TO</td>\n",
       "      <td>Oriental do Tocantins</td>\n",
       "      <td>Porto Nacional</td>\n",
       "      <td>Pedro Afonso</td>\n",
       "      <td>Água, Esgoto, Atividades De Gestão De Resíduos...</td>\n",
       "      <td>0.69</td>\n",
       "    </tr>\n",
       "    <tr>\n",
       "      <th>93188</th>\n",
       "      <td>2023</td>\n",
       "      <td>TO</td>\n",
       "      <td>Oriental do Tocantins</td>\n",
       "      <td>Porto Nacional</td>\n",
       "      <td>Porto Nacional</td>\n",
       "      <td>Água, Esgoto, Atividades De Gestão De Resíduos...</td>\n",
       "      <td>1.36</td>\n",
       "    </tr>\n",
       "    <tr>\n",
       "      <th>93189</th>\n",
       "      <td>2023</td>\n",
       "      <td>TO</td>\n",
       "      <td>Oriental do Tocantins</td>\n",
       "      <td>Porto Nacional</td>\n",
       "      <td>Santa Maria do Tocantins</td>\n",
       "      <td>Água, Esgoto, Atividades De Gestão De Resíduos...</td>\n",
       "      <td>4.71</td>\n",
       "    </tr>\n",
       "    <tr>\n",
       "      <th>93190</th>\n",
       "      <td>2023</td>\n",
       "      <td>TO</td>\n",
       "      <td>Oriental do Tocantins</td>\n",
       "      <td>Porto Nacional</td>\n",
       "      <td>Silvanópolis</td>\n",
       "      <td>Água, Esgoto, Atividades De Gestão De Resíduos...</td>\n",
       "      <td>2.52</td>\n",
       "    </tr>\n",
       "  </tbody>\n",
       "</table>\n",
       "<p>93191 rows × 7 columns</p>\n",
       "</div>"
      ],
      "text/plain": [
       "        ano sigla_uf       nome_mesorregiao nome_microrregiao  \\\n",
       "0      2023       AC           Vale do Acre         Brasiléia   \n",
       "1      2023       AC           Vale do Acre         Brasiléia   \n",
       "2      2023       AC           Vale do Acre         Brasiléia   \n",
       "3      2023       AC           Vale do Acre         Brasiléia   \n",
       "4      2023       AC           Vale do Acre        Rio Branco   \n",
       "...     ...      ...                    ...               ...   \n",
       "93186  2023       TO  Oriental do Tocantins    Porto Nacional   \n",
       "93187  2023       TO  Oriental do Tocantins    Porto Nacional   \n",
       "93188  2023       TO  Oriental do Tocantins    Porto Nacional   \n",
       "93189  2023       TO  Oriental do Tocantins    Porto Nacional   \n",
       "93190  2023       TO  Oriental do Tocantins    Porto Nacional   \n",
       "\n",
       "                      municipio  \\\n",
       "0                  Assis Brasil   \n",
       "1                     Brasiléia   \n",
       "2                Epitaciolândia   \n",
       "3                        Xapuri   \n",
       "4                    Acrelândia   \n",
       "...                         ...   \n",
       "93186                    Palmas   \n",
       "93187              Pedro Afonso   \n",
       "93188            Porto Nacional   \n",
       "93189  Santa Maria do Tocantins   \n",
       "93190              Silvanópolis   \n",
       "\n",
       "                                         descricao_secao  \\\n",
       "0      Administração Pública, Defesa E Seguridade Social   \n",
       "1      Administração Pública, Defesa E Seguridade Social   \n",
       "2      Administração Pública, Defesa E Seguridade Social   \n",
       "3      Administração Pública, Defesa E Seguridade Social   \n",
       "4      Administração Pública, Defesa E Seguridade Social   \n",
       "...                                                  ...   \n",
       "93186  Água, Esgoto, Atividades De Gestão De Resíduos...   \n",
       "93187  Água, Esgoto, Atividades De Gestão De Resíduos...   \n",
       "93188  Água, Esgoto, Atividades De Gestão De Resíduos...   \n",
       "93189  Água, Esgoto, Atividades De Gestão De Resíduos...   \n",
       "93190  Água, Esgoto, Atividades De Gestão De Resíduos...   \n",
       "\n",
       "       quociente_localizacao  \n",
       "0                       0.64  \n",
       "1                       0.18  \n",
       "2                       0.86  \n",
       "3                       1.92  \n",
       "4                       2.56  \n",
       "...                      ...  \n",
       "93186                   0.96  \n",
       "93187                   0.69  \n",
       "93188                   1.36  \n",
       "93189                   4.71  \n",
       "93190                   2.52  \n",
       "\n",
       "[93191 rows x 7 columns]"
      ]
     },
     "execution_count": 59,
     "metadata": {},
     "output_type": "execute_result"
    }
   ],
   "source": [
    "caminho = \"D:/dados/rais/estabelecimentos/\"\n",
    "caminho_dict_muni = \"D:/dados/rais/dicionarios/dicionario_municipios.csv\"\n",
    "caminho_dict_cnae = \"D:/dados/rais/dicionarios/dicionario_cnae_2.csv\"\n",
    "ano_ini = 2023\n",
    "ano_fim = 2023\n",
    "caminhos = {'rais': caminho, \n",
    "            'municipios': caminho_dict_muni, \n",
    "            'cnae': caminho_dict_cnae}\n",
    "\n",
    "df_ql_muni = etl_pipeline(caminhos, ano_ini, ano_fim, 'muni')\n",
    "df_ql_muni"
   ]
  },
  {
   "cell_type": "markdown",
   "id": "692def75",
   "metadata": {},
   "source": [
    "---"
   ]
  }
 ],
 "metadata": {
  "kernelspec": {
   "display_name": "Python 3",
   "language": "python",
   "name": "python3"
  },
  "language_info": {
   "codemirror_mode": {
    "name": "ipython",
    "version": 3
   },
   "file_extension": ".py",
   "mimetype": "text/x-python",
   "name": "python",
   "nbconvert_exporter": "python",
   "pygments_lexer": "ipython3",
   "version": "3.13.0"
  }
 },
 "nbformat": 4,
 "nbformat_minor": 5
}
