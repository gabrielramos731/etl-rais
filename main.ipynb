{
 "cells": [
  {
   "cell_type": "code",
   "execution_count": 1,
   "id": "59c196de",
   "metadata": {},
   "outputs": [],
   "source": [
    "import pandas as pd"
   ]
  },
  {
   "cell_type": "markdown",
   "id": "ef7fa09b",
   "metadata": {},
   "source": [
    "# RAIS"
   ]
  },
  {
   "cell_type": "markdown",
   "id": "3ab5cd04",
   "metadata": {},
   "source": [
    "## Estabelecimentos\n"
   ]
  },
  {
   "cell_type": "markdown",
   "id": "0e792065",
   "metadata": {},
   "source": [
    "TODO\n",
    "\n",
    "- Pipeline\n",
    "\n",
    "    - Leitura\n",
    "    - Tratamento\n",
    "    - Merging\n",
    "    - Load"
   ]
  },
  {
   "cell_type": "markdown",
   "id": "be661823",
   "metadata": {},
   "source": [
    "ano, uf, meso, micro, muni"
   ]
  },
  {
   "cell_type": "code",
   "execution_count": 2,
   "id": "44b0770c",
   "metadata": {},
   "outputs": [],
   "source": [
    "def read_data(caminho, ano):\n",
    "    try: # txt file\n",
    "        colunas = ['CNAE 2.0 Classe', 'Município']\n",
    "        df_estb = pd.read_csv(caminho + 'ESTB' + ano + '.txt', sep=';', encoding='latin1', usecols=colunas)\n",
    "        df_estb['ano'] = ano\n",
    "        df_estb.rename(columns={'Município': 'id_municipio', 'CNAE 2.0 Classe': 'cnae_2'}, inplace=True)\t\n",
    "        df_estb = df_estb[['ano', 'id_municipio', 'cnae_2']]\n",
    "    except: # csv file\n",
    "        colunas = ['ano', 'id_municipio', 'cnae_2']\n",
    "        df_estb = pd.read_csv(caminho + 'ESTB' + ano + '.csv', usecols=colunas)\n",
    "        \n",
    "        df_estb.dropna(inplace=True)\n",
    "        df_estb['id_municipio'] = df_estb['id_municipio'].astype('int')\n",
    "        \n",
    "        df_estb['id_municipio'] = df_estb['id_municipio'].apply(lambda x: int(x/10)) # remove 7'th dígito\n",
    "\n",
    "    return df_estb"
   ]
  },
  {
   "cell_type": "code",
   "execution_count": 3,
   "id": "e8acb1a3",
   "metadata": {},
   "outputs": [],
   "source": [
    "def transform_data(df):\n",
    "    '''Normaliza o tipo de cada coluna e obtem a cnae_secao de cnae_2'''\n",
    "    \n",
    "    df['ano'] = df['ano'].astype('int16')\n",
    "    \n",
    "    df['id_municipio'] = df['id_municipio'].astype('int')\n",
    "        \n",
    "    df.loc[:, 'cnae_2'] = df['cnae_2'].apply(lambda x: str(x).zfill(5))\n",
    "    df['cnae_secao'] = df['cnae_2'].apply(lambda x: x[:2])\n",
    "    df['cnae_secao'] = df['cnae_secao'].astype('int')\n",
    "    df.drop(columns=['cnae_2'], inplace=True)\n",
    "    return df"
   ]
  },
  {
   "cell_type": "code",
   "execution_count": 4,
   "id": "0a1cc66b",
   "metadata": {},
   "outputs": [],
   "source": [
    "def merge_municipios(df, caminho):\n",
    "    '''Faz o merge do id_municipio com os dados do dicionário'''\n",
    "    \n",
    "    colunas_muni = ['id_municipio_6', 'nome', 'nome_microrregiao', 'nome_mesorregiao', 'sigla_uf', 'nome_uf', 'nome_regiao']\n",
    "    dicionario_muni = pd.read_csv(caminho, sep=',', usecols=colunas_muni)\n",
    "    dicionario_muni.rename(columns={'id_municipio_6': 'id_municipio', 'nome': 'municipio'}, inplace=True)\n",
    "    \n",
    "    df = pd.merge(df, dicionario_muni, on='id_municipio', how='left')\n",
    "    df.drop(columns=['id_municipio'], inplace=True)\n",
    "    return df"
   ]
  },
  {
   "cell_type": "code",
   "execution_count": 5,
   "id": "fb6048c5",
   "metadata": {},
   "outputs": [],
   "source": [
    "def merge_cnae(df, caminho):\n",
    "    \n",
    "    colunas_tmp = ['divisao','descricao_secao']\n",
    "    df_cnae = pd.read_csv(caminho, usecols=colunas_tmp)\n",
    "    df_cnae.rename(columns={'divisao': 'cnae_secao'}, inplace=True)\n",
    "    df_cnae.drop_duplicates(inplace=True)\n",
    "    \n",
    "    df = pd.merge(df, df_cnae, on='cnae_secao', how='left')\n",
    "    df.drop(columns=['cnae_secao'], inplace=True)\n",
    "    return df"
   ]
  },
  {
   "cell_type": "code",
   "execution_count": 6,
   "id": "5aab8142",
   "metadata": {},
   "outputs": [],
   "source": [
    "def calc_ql(df, loc='meso'):\n",
    "    if loc == 'meso':\n",
    "        numerador = df.groupby(['ano', 'sigla_uf', 'nome_mesorregiao', 'descricao_secao']).size() / df.groupby(['ano', 'sigla_uf', 'nome_mesorregiao']).size()\n",
    "        denominador = df.groupby(['ano', 'sigla_uf', 'descricao_secao']).size() / df.groupby(['ano', 'sigla_uf']).size()\n",
    "        ql = numerador / denominador\n",
    "        ql = ql.reset_index()\n",
    "        ql.columns = ['ano', 'sigla_uf', 'nome_mesorregiao', 'descricao_secao', 'quociente_localizacao']\n",
    "    elif loc == 'micro':\n",
    "        numerador = df.groupby(['ano', 'sigla_uf', 'nome_microrregiao', 'descricao_secao']).size() / df.groupby(['ano', 'sigla_uf', 'nome_microrregiao']).size()\n",
    "        denominador = df.groupby(['ano', 'sigla_uf', 'descricao_secao']).size() / df.groupby(['ano', 'sigla_uf']).size()\n",
    "        ql = numerador / denominador\n",
    "        ql.columns = ['ano', 'sigla_uf', 'nome_microrregiao', 'descricao_secao', 'quociente_localizacao']\n",
    "        ql = ql.reset_index()\n",
    "    \n",
    "    ql['quociente_localizacao'] = ql['quociente_localizacao'].map(lambda x: float(f\"{x:.2f}\"))\n",
    "\n",
    "\n",
    "    return ql\n"
   ]
  },
  {
   "cell_type": "code",
   "execution_count": 7,
   "id": "22367792",
   "metadata": {},
   "outputs": [],
   "source": [
    "def etl_pipeline(caminhos, ano_ini, ano_fim, loc):\n",
    "    dfs_ql = []\n",
    "    for ano in range(ano_ini, ano_fim+1):\n",
    "        print('---', ano, '---')\n",
    "        df = read_data(caminhos['rais'], str(ano))\n",
    "        df = transform_data(df)\n",
    "        df = merge_municipios(df, caminhos['municipios'])\n",
    "        df = merge_cnae(df, caminhos['cnae'])\n",
    "        \n",
    "        dfs_ql.append(calc_ql(df, loc))\n",
    "    df = pd.concat(dfs_ql)\n",
    "    return df"
   ]
  },
  {
   "cell_type": "code",
   "execution_count": 8,
   "id": "6acf8e34",
   "metadata": {},
   "outputs": [
    {
     "name": "stdout",
     "output_type": "stream",
     "text": [
      "--- 2021 ---\n"
     ]
    },
    {
     "name": "stderr",
     "output_type": "stream",
     "text": [
      "C:\\Users\\ramos\\AppData\\Local\\Temp\\ipykernel_20772\\2426591515.py:8: FutureWarning: Setting an item of incompatible dtype is deprecated and will raise in a future error of pandas. Value '['1113.0' '1113.0' '1113.0' ... '96033.0' '96092.0' '96092.0']' has dtype incompatible with float64, please explicitly cast to a compatible dtype first.\n",
      "  df.loc[:, 'cnae_2'] = df['cnae_2'].apply(lambda x: str(x).zfill(5))\n"
     ]
    },
    {
     "data": {
      "application/vnd.microsoft.datawrangler.viewer.v0+json": {
       "columns": [
        {
         "name": "index",
         "rawType": "int64",
         "type": "integer"
        },
        {
         "name": "ano",
         "rawType": "int16",
         "type": "integer"
        },
        {
         "name": "sigla_uf",
         "rawType": "object",
         "type": "string"
        },
        {
         "name": "nome_mesorregiao",
         "rawType": "object",
         "type": "string"
        },
        {
         "name": "descricao_secao",
         "rawType": "object",
         "type": "string"
        },
        {
         "name": "quociente_localizacao",
         "rawType": "float64",
         "type": "float"
        }
       ],
       "conversionMethod": "pd.DataFrame",
       "ref": "58b663ea-1396-467d-be3b-bf0ef25cab47",
       "rows": [
        [
         "0",
         "2021",
         "AC",
         "Vale do Acre",
         "Administração Pública, Defesa E Seguridade Social",
         "1.07"
        ],
        [
         "1",
         "2021",
         "AC",
         "Vale do Juruá",
         "Administração Pública, Defesa E Seguridade Social",
         "0.74"
        ],
        [
         "2",
         "2021",
         "AC",
         "Vale do Acre",
         "Alojamento E Alimentação",
         "1.09"
        ],
        [
         "3",
         "2021",
         "AC",
         "Vale do Juruá",
         "Alojamento E Alimentação",
         "0.7"
        ],
        [
         "4",
         "2021",
         "AC",
         "Vale do Acre",
         "Artes, Cultura, Esporte E Recreação",
         "1.09"
        ],
        [
         "5",
         "2021",
         "AC",
         "Vale do Juruá",
         "Artes, Cultura, Esporte E Recreação",
         "0.67"
        ],
        [
         "6",
         "2021",
         "AC",
         "Vale do Acre",
         "Atividades Administrativas E Serviços Complementares",
         "1.11"
        ],
        [
         "7",
         "2021",
         "AC",
         "Vale do Juruá",
         "Atividades Administrativas E Serviços Complementares",
         "0.62"
        ],
        [
         "8",
         "2021",
         "AC",
         "Vale do Acre",
         "Atividades Financeiras, De Seguros E Serviços Relacionados",
         "1.11"
        ],
        [
         "9",
         "2021",
         "AC",
         "Vale do Juruá",
         "Atividades Financeiras, De Seguros E Serviços Relacionados",
         "0.63"
        ],
        [
         "10",
         "2021",
         "AC",
         "Vale do Acre",
         "Atividades Imobiliárias",
         "1.19"
        ],
        [
         "11",
         "2021",
         "AC",
         "Vale do Juruá",
         "Atividades Imobiliárias",
         "0.35"
        ],
        [
         "12",
         "2021",
         "AC",
         "Vale do Acre",
         "Atividades Profissionais, Científicas E Técnicas",
         "1.12"
        ],
        [
         "13",
         "2021",
         "AC",
         "Vale do Juruá",
         "Atividades Profissionais, Científicas E Técnicas",
         "0.58"
        ],
        [
         "14",
         "2021",
         "AC",
         "Vale do Acre",
         "Comércio; Reparação De Veículos Automotores E Motocicletas",
         "0.95"
        ],
        [
         "15",
         "2021",
         "AC",
         "Vale do Juruá",
         "Comércio; Reparação De Veículos Automotores E Motocicletas",
         "1.17"
        ],
        [
         "16",
         "2021",
         "AC",
         "Vale do Acre",
         "Construção",
         "1.01"
        ],
        [
         "17",
         "2021",
         "AC",
         "Vale do Juruá",
         "Construção",
         "0.95"
        ],
        [
         "18",
         "2021",
         "AC",
         "Vale do Acre",
         "Educação",
         "0.94"
        ],
        [
         "19",
         "2021",
         "AC",
         "Vale do Juruá",
         "Educação",
         "1.21"
        ],
        [
         "20",
         "2021",
         "AC",
         "Vale do Acre",
         "Eletricidade E Gás",
         "0.83"
        ],
        [
         "21",
         "2021",
         "AC",
         "Vale do Juruá",
         "Eletricidade E Gás",
         "1.62"
        ],
        [
         "22",
         "2021",
         "AC",
         "Vale do Acre",
         "Indústrias De Transformação",
         "1.02"
        ],
        [
         "23",
         "2021",
         "AC",
         "Vale do Juruá",
         "Indústrias De Transformação",
         "0.92"
        ],
        [
         "24",
         "2021",
         "AC",
         "Vale do Acre",
         "Informação E Comunicação",
         "1.05"
        ],
        [
         "25",
         "2021",
         "AC",
         "Vale do Juruá",
         "Informação E Comunicação",
         "0.82"
        ],
        [
         "26",
         "2021",
         "AC",
         "Vale do Acre",
         "Organismos Internacionais E Outras Instituições Extraterritoriais",
         "0.64"
        ],
        [
         "27",
         "2021",
         "AC",
         "Vale do Juruá",
         "Organismos Internacionais E Outras Instituições Extraterritoriais",
         "2.26"
        ],
        [
         "28",
         "2021",
         "AC",
         "Vale do Acre",
         "Outras Atividades De Serviços",
         "1.02"
        ],
        [
         "29",
         "2021",
         "AC",
         "Vale do Juruá",
         "Outras Atividades De Serviços",
         "0.92"
        ],
        [
         "30",
         "2021",
         "AC",
         "Vale do Acre",
         "Saúde Humana E Serviços Sociais",
         "0.99"
        ],
        [
         "31",
         "2021",
         "AC",
         "Vale do Juruá",
         "Saúde Humana E Serviços Sociais",
         "1.04"
        ],
        [
         "32",
         "2021",
         "AC",
         "Vale do Acre",
         "Serviços Domésticos",
         "1.28"
        ],
        [
         "33",
         "2021",
         "AC",
         "Vale do Acre",
         "Transporte, Armazenagem E Correio",
         "0.9"
        ],
        [
         "34",
         "2021",
         "AC",
         "Vale do Juruá",
         "Transporte, Armazenagem E Correio",
         "1.34"
        ],
        [
         "35",
         "2021",
         "AC",
         "Vale do Acre",
         "Água, Esgoto, Atividades De Gestão De Resíduos E Descontaminação",
         "1.04"
        ],
        [
         "36",
         "2021",
         "AC",
         "Vale do Juruá",
         "Água, Esgoto, Atividades De Gestão De Resíduos E Descontaminação",
         "0.85"
        ],
        [
         "37",
         "2021",
         "AL",
         "Agreste Alagoano",
         "Administração Pública, Defesa E Seguridade Social",
         "0.84"
        ],
        [
         "38",
         "2021",
         "AL",
         "Leste Alagoano",
         "Administração Pública, Defesa E Seguridade Social",
         "0.93"
        ],
        [
         "39",
         "2021",
         "AL",
         "Sertão Alagoano",
         "Administração Pública, Defesa E Seguridade Social",
         "1.98"
        ],
        [
         "40",
         "2021",
         "AL",
         "Agreste Alagoano",
         "Alojamento E Alimentação",
         "0.62"
        ],
        [
         "41",
         "2021",
         "AL",
         "Leste Alagoano",
         "Alojamento E Alimentação",
         "1.13"
        ],
        [
         "42",
         "2021",
         "AL",
         "Sertão Alagoano",
         "Alojamento E Alimentação",
         "0.67"
        ],
        [
         "43",
         "2021",
         "AL",
         "Agreste Alagoano",
         "Artes, Cultura, Esporte E Recreação",
         "0.95"
        ],
        [
         "44",
         "2021",
         "AL",
         "Leste Alagoano",
         "Artes, Cultura, Esporte E Recreação",
         "1.03"
        ],
        [
         "45",
         "2021",
         "AL",
         "Sertão Alagoano",
         "Artes, Cultura, Esporte E Recreação",
         "0.88"
        ],
        [
         "46",
         "2021",
         "AL",
         "Agreste Alagoano",
         "Atividades Administrativas E Serviços Complementares",
         "0.55"
        ],
        [
         "47",
         "2021",
         "AL",
         "Leste Alagoano",
         "Atividades Administrativas E Serviços Complementares",
         "1.17"
        ],
        [
         "48",
         "2021",
         "AL",
         "Sertão Alagoano",
         "Atividades Administrativas E Serviços Complementares",
         "0.46"
        ],
        [
         "49",
         "2021",
         "AL",
         "Agreste Alagoano",
         "Atividades Financeiras, De Seguros E Serviços Relacionados",
         "0.67"
        ]
       ],
       "shape": {
        "columns": 5,
        "rows": 2556
       }
      },
      "text/html": [
       "<div>\n",
       "<style scoped>\n",
       "    .dataframe tbody tr th:only-of-type {\n",
       "        vertical-align: middle;\n",
       "    }\n",
       "\n",
       "    .dataframe tbody tr th {\n",
       "        vertical-align: top;\n",
       "    }\n",
       "\n",
       "    .dataframe thead th {\n",
       "        text-align: right;\n",
       "    }\n",
       "</style>\n",
       "<table border=\"1\" class=\"dataframe\">\n",
       "  <thead>\n",
       "    <tr style=\"text-align: right;\">\n",
       "      <th></th>\n",
       "      <th>ano</th>\n",
       "      <th>sigla_uf</th>\n",
       "      <th>nome_mesorregiao</th>\n",
       "      <th>descricao_secao</th>\n",
       "      <th>quociente_localizacao</th>\n",
       "    </tr>\n",
       "  </thead>\n",
       "  <tbody>\n",
       "    <tr>\n",
       "      <th>0</th>\n",
       "      <td>2021</td>\n",
       "      <td>AC</td>\n",
       "      <td>Vale do Acre</td>\n",
       "      <td>Administração Pública, Defesa E Seguridade Social</td>\n",
       "      <td>1.07</td>\n",
       "    </tr>\n",
       "    <tr>\n",
       "      <th>1</th>\n",
       "      <td>2021</td>\n",
       "      <td>AC</td>\n",
       "      <td>Vale do Juruá</td>\n",
       "      <td>Administração Pública, Defesa E Seguridade Social</td>\n",
       "      <td>0.74</td>\n",
       "    </tr>\n",
       "    <tr>\n",
       "      <th>2</th>\n",
       "      <td>2021</td>\n",
       "      <td>AC</td>\n",
       "      <td>Vale do Acre</td>\n",
       "      <td>Alojamento E Alimentação</td>\n",
       "      <td>1.09</td>\n",
       "    </tr>\n",
       "    <tr>\n",
       "      <th>3</th>\n",
       "      <td>2021</td>\n",
       "      <td>AC</td>\n",
       "      <td>Vale do Juruá</td>\n",
       "      <td>Alojamento E Alimentação</td>\n",
       "      <td>0.70</td>\n",
       "    </tr>\n",
       "    <tr>\n",
       "      <th>4</th>\n",
       "      <td>2021</td>\n",
       "      <td>AC</td>\n",
       "      <td>Vale do Acre</td>\n",
       "      <td>Artes, Cultura, Esporte E Recreação</td>\n",
       "      <td>1.09</td>\n",
       "    </tr>\n",
       "    <tr>\n",
       "      <th>...</th>\n",
       "      <td>...</td>\n",
       "      <td>...</td>\n",
       "      <td>...</td>\n",
       "      <td>...</td>\n",
       "      <td>...</td>\n",
       "    </tr>\n",
       "    <tr>\n",
       "      <th>2551</th>\n",
       "      <td>2021</td>\n",
       "      <td>TO</td>\n",
       "      <td>Oriental do Tocantins</td>\n",
       "      <td>Serviços Domésticos</td>\n",
       "      <td>1.42</td>\n",
       "    </tr>\n",
       "    <tr>\n",
       "      <th>2552</th>\n",
       "      <td>2021</td>\n",
       "      <td>TO</td>\n",
       "      <td>Ocidental do Tocantins</td>\n",
       "      <td>Transporte, Armazenagem E Correio</td>\n",
       "      <td>1.20</td>\n",
       "    </tr>\n",
       "    <tr>\n",
       "      <th>2553</th>\n",
       "      <td>2021</td>\n",
       "      <td>TO</td>\n",
       "      <td>Oriental do Tocantins</td>\n",
       "      <td>Transporte, Armazenagem E Correio</td>\n",
       "      <td>0.74</td>\n",
       "    </tr>\n",
       "    <tr>\n",
       "      <th>2554</th>\n",
       "      <td>2021</td>\n",
       "      <td>TO</td>\n",
       "      <td>Ocidental do Tocantins</td>\n",
       "      <td>Água, Esgoto, Atividades De Gestão De Resíduos...</td>\n",
       "      <td>0.90</td>\n",
       "    </tr>\n",
       "    <tr>\n",
       "      <th>2555</th>\n",
       "      <td>2021</td>\n",
       "      <td>TO</td>\n",
       "      <td>Oriental do Tocantins</td>\n",
       "      <td>Água, Esgoto, Atividades De Gestão De Resíduos...</td>\n",
       "      <td>1.12</td>\n",
       "    </tr>\n",
       "  </tbody>\n",
       "</table>\n",
       "<p>2556 rows × 5 columns</p>\n",
       "</div>"
      ],
      "text/plain": [
       "       ano sigla_uf        nome_mesorregiao  \\\n",
       "0     2021       AC            Vale do Acre   \n",
       "1     2021       AC           Vale do Juruá   \n",
       "2     2021       AC            Vale do Acre   \n",
       "3     2021       AC           Vale do Juruá   \n",
       "4     2021       AC            Vale do Acre   \n",
       "...    ...      ...                     ...   \n",
       "2551  2021       TO   Oriental do Tocantins   \n",
       "2552  2021       TO  Ocidental do Tocantins   \n",
       "2553  2021       TO   Oriental do Tocantins   \n",
       "2554  2021       TO  Ocidental do Tocantins   \n",
       "2555  2021       TO   Oriental do Tocantins   \n",
       "\n",
       "                                        descricao_secao  quociente_localizacao  \n",
       "0     Administração Pública, Defesa E Seguridade Social                   1.07  \n",
       "1     Administração Pública, Defesa E Seguridade Social                   0.74  \n",
       "2                              Alojamento E Alimentação                   1.09  \n",
       "3                              Alojamento E Alimentação                   0.70  \n",
       "4                   Artes, Cultura, Esporte E Recreação                   1.09  \n",
       "...                                                 ...                    ...  \n",
       "2551                                Serviços Domésticos                   1.42  \n",
       "2552                  Transporte, Armazenagem E Correio                   1.20  \n",
       "2553                  Transporte, Armazenagem E Correio                   0.74  \n",
       "2554  Água, Esgoto, Atividades De Gestão De Resíduos...                   0.90  \n",
       "2555  Água, Esgoto, Atividades De Gestão De Resíduos...                   1.12  \n",
       "\n",
       "[2556 rows x 5 columns]"
      ]
     },
     "execution_count": 8,
     "metadata": {},
     "output_type": "execute_result"
    }
   ],
   "source": [
    "caminho = \"D:/dados/rais/estabelecimentos/\"\n",
    "caminho_dict_muni = \"D:/dados/rais/dicionarios/dicionario_municipios.csv\"\n",
    "caminho_dict_cnae = \"D:/dados/rais/dicionarios/dicionario_cnae_2.csv\"\n",
    "ano_ini = 2021\n",
    "ano_fim = 2021\n",
    "caminhos = {'rais': caminho, \n",
    "            'municipios': caminho_dict_muni, \n",
    "            'cnae': caminho_dict_cnae}\n",
    "\n",
    "df = etl_pipeline(caminhos, ano_ini, ano_fim, 'meso')\n",
    "df"
   ]
  },
  {
   "cell_type": "code",
   "execution_count": 72,
   "id": "ff00fa75",
   "metadata": {},
   "outputs": [
    {
     "data": {
      "text/plain": [
       "ano\n",
       "2007    2830\n",
       "2008    2825\n",
       "2009    2822\n",
       "2010    2810\n",
       "2011    2813\n",
       "2012    2807\n",
       "2013    2821\n",
       "2014    2812\n",
       "2015    2812\n",
       "2016    2811\n",
       "2017    2806\n",
       "2018    2802\n",
       "2019    2788\n",
       "2020    2772\n",
       "2021    2556\n",
       "2022    2735\n",
       "2023    2734\n",
       "2024    2731\n",
       "dtype: int64"
      ]
     },
     "execution_count": 72,
     "metadata": {},
     "output_type": "execute_result"
    }
   ],
   "source": [
    "df.groupby('ano').size()"
   ]
  },
  {
   "cell_type": "code",
   "execution_count": 73,
   "id": "998f74b9",
   "metadata": {},
   "outputs": [
    {
     "data": {
      "application/vnd.microsoft.datawrangler.viewer.v0+json": {
       "columns": [
        {
         "name": "index",
         "rawType": "int64",
         "type": "integer"
        },
        {
         "name": "ano",
         "rawType": "int16",
         "type": "integer"
        },
        {
         "name": "sigla_uf",
         "rawType": "object",
         "type": "string"
        },
        {
         "name": "nome_mesorregiao",
         "rawType": "object",
         "type": "string"
        },
        {
         "name": "descricao_secao",
         "rawType": "object",
         "type": "string"
        },
        {
         "name": "quociente_localizacao",
         "rawType": "float64",
         "type": "float"
        }
       ],
       "conversionMethod": "pd.DataFrame",
       "ref": "9772a248-8862-4f9f-a5a0-77a3031f5227",
       "rows": [
        [
         "820",
         "2007",
         "MG",
         "Norte de Minas",
         "Administração Pública, Defesa E Seguridade Social",
         "1.92"
        ],
        [
         "832",
         "2007",
         "MG",
         "Norte de Minas",
         "Agricultura, Pecuária, Produção Florestal, Pesca E Aquicultura",
         "0.96"
        ],
        [
         "844",
         "2007",
         "MG",
         "Norte de Minas",
         "Alojamento E Alimentação",
         "0.63"
        ],
        [
         "856",
         "2007",
         "MG",
         "Norte de Minas",
         "Artes, Cultura, Esporte E Recreação",
         "0.69"
        ],
        [
         "868",
         "2007",
         "MG",
         "Norte de Minas",
         "Atividades Administrativas E Serviços Complementares",
         "0.44"
        ],
        [
         "880",
         "2007",
         "MG",
         "Norte de Minas",
         "Atividades Financeiras, De Seguros E Serviços Relacionados",
         "0.58"
        ],
        [
         "892",
         "2007",
         "MG",
         "Norte de Minas",
         "Atividades Imobiliárias",
         "0.36"
        ],
        [
         "904",
         "2007",
         "MG",
         "Norte de Minas",
         "Atividades Profissionais, Científicas E Técnicas",
         "0.49"
        ],
        [
         "916",
         "2007",
         "MG",
         "Norte de Minas",
         "Comércio; Reparação De Veículos Automotores E Motocicletas",
         "1.22"
        ],
        [
         "928",
         "2007",
         "MG",
         "Norte de Minas",
         "Construção",
         "0.57"
        ],
        [
         "940",
         "2007",
         "MG",
         "Norte de Minas",
         "Educação",
         "1.09"
        ],
        [
         "952",
         "2007",
         "MG",
         "Norte de Minas",
         "Eletricidade E Gás",
         "0.25"
        ],
        [
         "964",
         "2007",
         "MG",
         "Norte de Minas",
         "Indústrias De Transformação",
         "0.65"
        ],
        [
         "976",
         "2007",
         "MG",
         "Norte de Minas",
         "Indústrias Extrativas",
         "0.56"
        ],
        [
         "988",
         "2007",
         "MG",
         "Norte de Minas",
         "Informação E Comunicação",
         "0.4"
        ],
        [
         "999",
         "2007",
         "MG",
         "Norte de Minas",
         "Organismos Internacionais E Outras Instituições Extraterritoriais",
         "0.68"
        ],
        [
         "1011",
         "2007",
         "MG",
         "Norte de Minas",
         "Outras Atividades De Serviços",
         "1.71"
        ],
        [
         "1023",
         "2007",
         "MG",
         "Norte de Minas",
         "Saúde Humana E Serviços Sociais",
         "0.97"
        ],
        [
         "1035",
         "2007",
         "MG",
         "Norte de Minas",
         "Serviços Domésticos",
         "0.49"
        ],
        [
         "1047",
         "2007",
         "MG",
         "Norte de Minas",
         "Transporte, Armazenagem E Correio",
         "0.96"
        ],
        [
         "1059",
         "2007",
         "MG",
         "Norte de Minas",
         "Água, Esgoto, Atividades De Gestão De Resíduos E Descontaminação",
         "1.09"
        ],
        [
         "822",
         "2008",
         "MG",
         "Norte de Minas",
         "Administração Pública, Defesa E Seguridade Social",
         "1.69"
        ],
        [
         "834",
         "2008",
         "MG",
         "Norte de Minas",
         "Agricultura, Pecuária, Produção Florestal, Pesca E Aquicultura",
         "1.01"
        ],
        [
         "846",
         "2008",
         "MG",
         "Norte de Minas",
         "Alojamento E Alimentação",
         "0.62"
        ],
        [
         "858",
         "2008",
         "MG",
         "Norte de Minas",
         "Artes, Cultura, Esporte E Recreação",
         "0.67"
        ],
        [
         "870",
         "2008",
         "MG",
         "Norte de Minas",
         "Atividades Administrativas E Serviços Complementares",
         "0.47"
        ],
        [
         "882",
         "2008",
         "MG",
         "Norte de Minas",
         "Atividades Financeiras, De Seguros E Serviços Relacionados",
         "0.57"
        ],
        [
         "894",
         "2008",
         "MG",
         "Norte de Minas",
         "Atividades Imobiliárias",
         "0.31"
        ],
        [
         "906",
         "2008",
         "MG",
         "Norte de Minas",
         "Atividades Profissionais, Científicas E Técnicas",
         "0.5"
        ],
        [
         "918",
         "2008",
         "MG",
         "Norte de Minas",
         "Comércio; Reparação De Veículos Automotores E Motocicletas",
         "1.21"
        ],
        [
         "930",
         "2008",
         "MG",
         "Norte de Minas",
         "Construção",
         "0.57"
        ],
        [
         "942",
         "2008",
         "MG",
         "Norte de Minas",
         "Educação",
         "1.06"
        ],
        [
         "954",
         "2008",
         "MG",
         "Norte de Minas",
         "Eletricidade E Gás",
         "0.34"
        ],
        [
         "966",
         "2008",
         "MG",
         "Norte de Minas",
         "Indústrias De Transformação",
         "0.67"
        ],
        [
         "978",
         "2008",
         "MG",
         "Norte de Minas",
         "Indústrias Extrativas",
         "0.56"
        ],
        [
         "990",
         "2008",
         "MG",
         "Norte de Minas",
         "Informação E Comunicação",
         "0.41"
        ],
        [
         "1001",
         "2008",
         "MG",
         "Norte de Minas",
         "Organismos Internacionais E Outras Instituições Extraterritoriais",
         "1.66"
        ],
        [
         "1013",
         "2008",
         "MG",
         "Norte de Minas",
         "Outras Atividades De Serviços",
         "1.7"
        ],
        [
         "1025",
         "2008",
         "MG",
         "Norte de Minas",
         "Saúde Humana E Serviços Sociais",
         "1.05"
        ],
        [
         "1037",
         "2008",
         "MG",
         "Norte de Minas",
         "Serviços Domésticos",
         "0.62"
        ],
        [
         "1049",
         "2008",
         "MG",
         "Norte de Minas",
         "Transporte, Armazenagem E Correio",
         "0.96"
        ],
        [
         "1061",
         "2008",
         "MG",
         "Norte de Minas",
         "Água, Esgoto, Atividades De Gestão De Resíduos E Descontaminação",
         "1.0"
        ],
        [
         "819",
         "2009",
         "MG",
         "Norte de Minas",
         "Administração Pública, Defesa E Seguridade Social",
         "1.77"
        ],
        [
         "831",
         "2009",
         "MG",
         "Norte de Minas",
         "Agricultura, Pecuária, Produção Florestal, Pesca E Aquicultura",
         "1.02"
        ],
        [
         "843",
         "2009",
         "MG",
         "Norte de Minas",
         "Alojamento E Alimentação",
         "0.64"
        ],
        [
         "855",
         "2009",
         "MG",
         "Norte de Minas",
         "Artes, Cultura, Esporte E Recreação",
         "0.73"
        ],
        [
         "867",
         "2009",
         "MG",
         "Norte de Minas",
         "Atividades Administrativas E Serviços Complementares",
         "0.48"
        ],
        [
         "879",
         "2009",
         "MG",
         "Norte de Minas",
         "Atividades Financeiras, De Seguros E Serviços Relacionados",
         "0.56"
        ],
        [
         "891",
         "2009",
         "MG",
         "Norte de Minas",
         "Atividades Imobiliárias",
         "0.36"
        ],
        [
         "903",
         "2009",
         "MG",
         "Norte de Minas",
         "Atividades Profissionais, Científicas E Técnicas",
         "0.53"
        ]
       ],
       "shape": {
        "columns": 5,
        "rows": 369
       }
      },
      "text/html": [
       "<div>\n",
       "<style scoped>\n",
       "    .dataframe tbody tr th:only-of-type {\n",
       "        vertical-align: middle;\n",
       "    }\n",
       "\n",
       "    .dataframe tbody tr th {\n",
       "        vertical-align: top;\n",
       "    }\n",
       "\n",
       "    .dataframe thead th {\n",
       "        text-align: right;\n",
       "    }\n",
       "</style>\n",
       "<table border=\"1\" class=\"dataframe\">\n",
       "  <thead>\n",
       "    <tr style=\"text-align: right;\">\n",
       "      <th></th>\n",
       "      <th>ano</th>\n",
       "      <th>sigla_uf</th>\n",
       "      <th>nome_mesorregiao</th>\n",
       "      <th>descricao_secao</th>\n",
       "      <th>quociente_localizacao</th>\n",
       "    </tr>\n",
       "  </thead>\n",
       "  <tbody>\n",
       "    <tr>\n",
       "      <th>820</th>\n",
       "      <td>2007</td>\n",
       "      <td>MG</td>\n",
       "      <td>Norte de Minas</td>\n",
       "      <td>Administração Pública, Defesa E Seguridade Social</td>\n",
       "      <td>1.92</td>\n",
       "    </tr>\n",
       "    <tr>\n",
       "      <th>832</th>\n",
       "      <td>2007</td>\n",
       "      <td>MG</td>\n",
       "      <td>Norte de Minas</td>\n",
       "      <td>Agricultura, Pecuária, Produção Florestal, Pes...</td>\n",
       "      <td>0.96</td>\n",
       "    </tr>\n",
       "    <tr>\n",
       "      <th>844</th>\n",
       "      <td>2007</td>\n",
       "      <td>MG</td>\n",
       "      <td>Norte de Minas</td>\n",
       "      <td>Alojamento E Alimentação</td>\n",
       "      <td>0.63</td>\n",
       "    </tr>\n",
       "    <tr>\n",
       "      <th>856</th>\n",
       "      <td>2007</td>\n",
       "      <td>MG</td>\n",
       "      <td>Norte de Minas</td>\n",
       "      <td>Artes, Cultura, Esporte E Recreação</td>\n",
       "      <td>0.69</td>\n",
       "    </tr>\n",
       "    <tr>\n",
       "      <th>868</th>\n",
       "      <td>2007</td>\n",
       "      <td>MG</td>\n",
       "      <td>Norte de Minas</td>\n",
       "      <td>Atividades Administrativas E Serviços Compleme...</td>\n",
       "      <td>0.44</td>\n",
       "    </tr>\n",
       "    <tr>\n",
       "      <th>...</th>\n",
       "      <td>...</td>\n",
       "      <td>...</td>\n",
       "      <td>...</td>\n",
       "      <td>...</td>\n",
       "      <td>...</td>\n",
       "    </tr>\n",
       "    <tr>\n",
       "      <th>976</th>\n",
       "      <td>2024</td>\n",
       "      <td>MG</td>\n",
       "      <td>Norte de Minas</td>\n",
       "      <td>Outras Atividades De Serviços</td>\n",
       "      <td>1.38</td>\n",
       "    </tr>\n",
       "    <tr>\n",
       "      <th>988</th>\n",
       "      <td>2024</td>\n",
       "      <td>MG</td>\n",
       "      <td>Norte de Minas</td>\n",
       "      <td>Saúde Humana E Serviços Sociais</td>\n",
       "      <td>1.16</td>\n",
       "    </tr>\n",
       "    <tr>\n",
       "      <th>1000</th>\n",
       "      <td>2024</td>\n",
       "      <td>MG</td>\n",
       "      <td>Norte de Minas</td>\n",
       "      <td>Serviços Domésticos</td>\n",
       "      <td>0.73</td>\n",
       "    </tr>\n",
       "    <tr>\n",
       "      <th>1012</th>\n",
       "      <td>2024</td>\n",
       "      <td>MG</td>\n",
       "      <td>Norte de Minas</td>\n",
       "      <td>Transporte, Armazenagem E Correio</td>\n",
       "      <td>0.86</td>\n",
       "    </tr>\n",
       "    <tr>\n",
       "      <th>1024</th>\n",
       "      <td>2024</td>\n",
       "      <td>MG</td>\n",
       "      <td>Norte de Minas</td>\n",
       "      <td>Água, Esgoto, Atividades De Gestão De Resíduos...</td>\n",
       "      <td>0.99</td>\n",
       "    </tr>\n",
       "  </tbody>\n",
       "</table>\n",
       "<p>369 rows × 5 columns</p>\n",
       "</div>"
      ],
      "text/plain": [
       "       ano sigla_uf nome_mesorregiao  \\\n",
       "820   2007       MG   Norte de Minas   \n",
       "832   2007       MG   Norte de Minas   \n",
       "844   2007       MG   Norte de Minas   \n",
       "856   2007       MG   Norte de Minas   \n",
       "868   2007       MG   Norte de Minas   \n",
       "...    ...      ...              ...   \n",
       "976   2024       MG   Norte de Minas   \n",
       "988   2024       MG   Norte de Minas   \n",
       "1000  2024       MG   Norte de Minas   \n",
       "1012  2024       MG   Norte de Minas   \n",
       "1024  2024       MG   Norte de Minas   \n",
       "\n",
       "                                        descricao_secao  quociente_localizacao  \n",
       "820   Administração Pública, Defesa E Seguridade Social                   1.92  \n",
       "832   Agricultura, Pecuária, Produção Florestal, Pes...                   0.96  \n",
       "844                            Alojamento E Alimentação                   0.63  \n",
       "856                 Artes, Cultura, Esporte E Recreação                   0.69  \n",
       "868   Atividades Administrativas E Serviços Compleme...                   0.44  \n",
       "...                                                 ...                    ...  \n",
       "976                       Outras Atividades De Serviços                   1.38  \n",
       "988                     Saúde Humana E Serviços Sociais                   1.16  \n",
       "1000                                Serviços Domésticos                   0.73  \n",
       "1012                  Transporte, Armazenagem E Correio                   0.86  \n",
       "1024  Água, Esgoto, Atividades De Gestão De Resíduos...                   0.99  \n",
       "\n",
       "[369 rows x 5 columns]"
      ]
     },
     "execution_count": 73,
     "metadata": {},
     "output_type": "execute_result"
    }
   ],
   "source": [
    "df.query('nome_mesorregiao == \"Norte de Minas\"')"
   ]
  },
  {
   "cell_type": "code",
   "execution_count": 66,
   "id": "f748b5c1",
   "metadata": {},
   "outputs": [
    {
     "data": {
      "application/vnd.microsoft.datawrangler.viewer.v0+json": {
       "columns": [
        {
         "name": "index",
         "rawType": "int64",
         "type": "integer"
        },
        {
         "name": "ano",
         "rawType": "int16",
         "type": "integer"
        },
        {
         "name": "sigla_uf",
         "rawType": "object",
         "type": "string"
        },
        {
         "name": "nome_mesorregiao",
         "rawType": "object",
         "type": "string"
        },
        {
         "name": "descricao_secao",
         "rawType": "object",
         "type": "string"
        },
        {
         "name": "quociente_localizacao",
         "rawType": "float64",
         "type": "float"
        }
       ],
       "conversionMethod": "pd.DataFrame",
       "ref": "ddf6cbe7-ff4c-4e7c-9252-d9ea691b9b11",
       "rows": [
        [
         "820",
         "2011",
         "MG",
         "Norte de Minas",
         "Administração Pública, Defesa E Seguridade Social",
         "1.62"
        ],
        [
         "832",
         "2011",
         "MG",
         "Norte de Minas",
         "Agricultura, Pecuária, Produção Florestal, Pesca E Aquicultura",
         "1.06"
        ],
        [
         "844",
         "2011",
         "MG",
         "Norte de Minas",
         "Alojamento E Alimentação",
         "0.68"
        ],
        [
         "856",
         "2011",
         "MG",
         "Norte de Minas",
         "Artes, Cultura, Esporte E Recreação",
         "0.82"
        ],
        [
         "868",
         "2011",
         "MG",
         "Norte de Minas",
         "Atividades Administrativas E Serviços Complementares",
         "0.52"
        ],
        [
         "880",
         "2011",
         "MG",
         "Norte de Minas",
         "Atividades Financeiras, De Seguros E Serviços Relacionados",
         "0.56"
        ],
        [
         "892",
         "2011",
         "MG",
         "Norte de Minas",
         "Atividades Imobiliárias",
         "0.43"
        ],
        [
         "904",
         "2011",
         "MG",
         "Norte de Minas",
         "Atividades Profissionais, Científicas E Técnicas",
         "0.56"
        ],
        [
         "916",
         "2011",
         "MG",
         "Norte de Minas",
         "Comércio; Reparação De Veículos Automotores E Motocicletas",
         "1.21"
        ],
        [
         "928",
         "2011",
         "MG",
         "Norte de Minas",
         "Construção",
         "0.61"
        ],
        [
         "940",
         "2011",
         "MG",
         "Norte de Minas",
         "Educação",
         "1.3"
        ],
        [
         "952",
         "2011",
         "MG",
         "Norte de Minas",
         "Eletricidade E Gás",
         "0.21"
        ],
        [
         "964",
         "2011",
         "MG",
         "Norte de Minas",
         "Indústrias De Transformação",
         "0.66"
        ],
        [
         "976",
         "2011",
         "MG",
         "Norte de Minas",
         "Indústrias Extrativas",
         "0.57"
        ],
        [
         "988",
         "2011",
         "MG",
         "Norte de Minas",
         "Informação E Comunicação",
         "0.46"
        ],
        [
         "998",
         "2011",
         "MG",
         "Norte de Minas",
         "Organismos Internacionais E Outras Instituições Extraterritoriais",
         "0.93"
        ],
        [
         "1010",
         "2011",
         "MG",
         "Norte de Minas",
         "Outras Atividades De Serviços",
         "1.63"
        ],
        [
         "1022",
         "2011",
         "MG",
         "Norte de Minas",
         "Saúde Humana E Serviços Sociais",
         "1.05"
        ],
        [
         "1034",
         "2011",
         "MG",
         "Norte de Minas",
         "Serviços Domésticos",
         "0.85"
        ],
        [
         "1046",
         "2011",
         "MG",
         "Norte de Minas",
         "Transporte, Armazenagem E Correio",
         "0.93"
        ],
        [
         "1058",
         "2011",
         "MG",
         "Norte de Minas",
         "Água, Esgoto, Atividades De Gestão De Resíduos E Descontaminação",
         "1.0"
        ]
       ],
       "shape": {
        "columns": 5,
        "rows": 21
       }
      },
      "text/html": [
       "<div>\n",
       "<style scoped>\n",
       "    .dataframe tbody tr th:only-of-type {\n",
       "        vertical-align: middle;\n",
       "    }\n",
       "\n",
       "    .dataframe tbody tr th {\n",
       "        vertical-align: top;\n",
       "    }\n",
       "\n",
       "    .dataframe thead th {\n",
       "        text-align: right;\n",
       "    }\n",
       "</style>\n",
       "<table border=\"1\" class=\"dataframe\">\n",
       "  <thead>\n",
       "    <tr style=\"text-align: right;\">\n",
       "      <th></th>\n",
       "      <th>ano</th>\n",
       "      <th>sigla_uf</th>\n",
       "      <th>nome_mesorregiao</th>\n",
       "      <th>descricao_secao</th>\n",
       "      <th>quociente_localizacao</th>\n",
       "    </tr>\n",
       "  </thead>\n",
       "  <tbody>\n",
       "    <tr>\n",
       "      <th>820</th>\n",
       "      <td>2011</td>\n",
       "      <td>MG</td>\n",
       "      <td>Norte de Minas</td>\n",
       "      <td>Administração Pública, Defesa E Seguridade Social</td>\n",
       "      <td>1.62</td>\n",
       "    </tr>\n",
       "    <tr>\n",
       "      <th>832</th>\n",
       "      <td>2011</td>\n",
       "      <td>MG</td>\n",
       "      <td>Norte de Minas</td>\n",
       "      <td>Agricultura, Pecuária, Produção Florestal, Pes...</td>\n",
       "      <td>1.06</td>\n",
       "    </tr>\n",
       "    <tr>\n",
       "      <th>844</th>\n",
       "      <td>2011</td>\n",
       "      <td>MG</td>\n",
       "      <td>Norte de Minas</td>\n",
       "      <td>Alojamento E Alimentação</td>\n",
       "      <td>0.68</td>\n",
       "    </tr>\n",
       "    <tr>\n",
       "      <th>856</th>\n",
       "      <td>2011</td>\n",
       "      <td>MG</td>\n",
       "      <td>Norte de Minas</td>\n",
       "      <td>Artes, Cultura, Esporte E Recreação</td>\n",
       "      <td>0.82</td>\n",
       "    </tr>\n",
       "    <tr>\n",
       "      <th>868</th>\n",
       "      <td>2011</td>\n",
       "      <td>MG</td>\n",
       "      <td>Norte de Minas</td>\n",
       "      <td>Atividades Administrativas E Serviços Compleme...</td>\n",
       "      <td>0.52</td>\n",
       "    </tr>\n",
       "    <tr>\n",
       "      <th>880</th>\n",
       "      <td>2011</td>\n",
       "      <td>MG</td>\n",
       "      <td>Norte de Minas</td>\n",
       "      <td>Atividades Financeiras, De Seguros E Serviços ...</td>\n",
       "      <td>0.56</td>\n",
       "    </tr>\n",
       "    <tr>\n",
       "      <th>892</th>\n",
       "      <td>2011</td>\n",
       "      <td>MG</td>\n",
       "      <td>Norte de Minas</td>\n",
       "      <td>Atividades Imobiliárias</td>\n",
       "      <td>0.43</td>\n",
       "    </tr>\n",
       "    <tr>\n",
       "      <th>904</th>\n",
       "      <td>2011</td>\n",
       "      <td>MG</td>\n",
       "      <td>Norte de Minas</td>\n",
       "      <td>Atividades Profissionais, Científicas E Técnicas</td>\n",
       "      <td>0.56</td>\n",
       "    </tr>\n",
       "    <tr>\n",
       "      <th>916</th>\n",
       "      <td>2011</td>\n",
       "      <td>MG</td>\n",
       "      <td>Norte de Minas</td>\n",
       "      <td>Comércio; Reparação De Veículos Automotores E ...</td>\n",
       "      <td>1.21</td>\n",
       "    </tr>\n",
       "    <tr>\n",
       "      <th>928</th>\n",
       "      <td>2011</td>\n",
       "      <td>MG</td>\n",
       "      <td>Norte de Minas</td>\n",
       "      <td>Construção</td>\n",
       "      <td>0.61</td>\n",
       "    </tr>\n",
       "    <tr>\n",
       "      <th>940</th>\n",
       "      <td>2011</td>\n",
       "      <td>MG</td>\n",
       "      <td>Norte de Minas</td>\n",
       "      <td>Educação</td>\n",
       "      <td>1.30</td>\n",
       "    </tr>\n",
       "    <tr>\n",
       "      <th>952</th>\n",
       "      <td>2011</td>\n",
       "      <td>MG</td>\n",
       "      <td>Norte de Minas</td>\n",
       "      <td>Eletricidade E Gás</td>\n",
       "      <td>0.21</td>\n",
       "    </tr>\n",
       "    <tr>\n",
       "      <th>964</th>\n",
       "      <td>2011</td>\n",
       "      <td>MG</td>\n",
       "      <td>Norte de Minas</td>\n",
       "      <td>Indústrias De Transformação</td>\n",
       "      <td>0.66</td>\n",
       "    </tr>\n",
       "    <tr>\n",
       "      <th>976</th>\n",
       "      <td>2011</td>\n",
       "      <td>MG</td>\n",
       "      <td>Norte de Minas</td>\n",
       "      <td>Indústrias Extrativas</td>\n",
       "      <td>0.57</td>\n",
       "    </tr>\n",
       "    <tr>\n",
       "      <th>988</th>\n",
       "      <td>2011</td>\n",
       "      <td>MG</td>\n",
       "      <td>Norte de Minas</td>\n",
       "      <td>Informação E Comunicação</td>\n",
       "      <td>0.46</td>\n",
       "    </tr>\n",
       "    <tr>\n",
       "      <th>998</th>\n",
       "      <td>2011</td>\n",
       "      <td>MG</td>\n",
       "      <td>Norte de Minas</td>\n",
       "      <td>Organismos Internacionais E Outras Instituiçõe...</td>\n",
       "      <td>0.93</td>\n",
       "    </tr>\n",
       "    <tr>\n",
       "      <th>1010</th>\n",
       "      <td>2011</td>\n",
       "      <td>MG</td>\n",
       "      <td>Norte de Minas</td>\n",
       "      <td>Outras Atividades De Serviços</td>\n",
       "      <td>1.63</td>\n",
       "    </tr>\n",
       "    <tr>\n",
       "      <th>1022</th>\n",
       "      <td>2011</td>\n",
       "      <td>MG</td>\n",
       "      <td>Norte de Minas</td>\n",
       "      <td>Saúde Humana E Serviços Sociais</td>\n",
       "      <td>1.05</td>\n",
       "    </tr>\n",
       "    <tr>\n",
       "      <th>1034</th>\n",
       "      <td>2011</td>\n",
       "      <td>MG</td>\n",
       "      <td>Norte de Minas</td>\n",
       "      <td>Serviços Domésticos</td>\n",
       "      <td>0.85</td>\n",
       "    </tr>\n",
       "    <tr>\n",
       "      <th>1046</th>\n",
       "      <td>2011</td>\n",
       "      <td>MG</td>\n",
       "      <td>Norte de Minas</td>\n",
       "      <td>Transporte, Armazenagem E Correio</td>\n",
       "      <td>0.93</td>\n",
       "    </tr>\n",
       "    <tr>\n",
       "      <th>1058</th>\n",
       "      <td>2011</td>\n",
       "      <td>MG</td>\n",
       "      <td>Norte de Minas</td>\n",
       "      <td>Água, Esgoto, Atividades De Gestão De Resíduos...</td>\n",
       "      <td>1.00</td>\n",
       "    </tr>\n",
       "  </tbody>\n",
       "</table>\n",
       "</div>"
      ],
      "text/plain": [
       "       ano sigla_uf nome_mesorregiao  \\\n",
       "820   2011       MG   Norte de Minas   \n",
       "832   2011       MG   Norte de Minas   \n",
       "844   2011       MG   Norte de Minas   \n",
       "856   2011       MG   Norte de Minas   \n",
       "868   2011       MG   Norte de Minas   \n",
       "880   2011       MG   Norte de Minas   \n",
       "892   2011       MG   Norte de Minas   \n",
       "904   2011       MG   Norte de Minas   \n",
       "916   2011       MG   Norte de Minas   \n",
       "928   2011       MG   Norte de Minas   \n",
       "940   2011       MG   Norte de Minas   \n",
       "952   2011       MG   Norte de Minas   \n",
       "964   2011       MG   Norte de Minas   \n",
       "976   2011       MG   Norte de Minas   \n",
       "988   2011       MG   Norte de Minas   \n",
       "998   2011       MG   Norte de Minas   \n",
       "1010  2011       MG   Norte de Minas   \n",
       "1022  2011       MG   Norte de Minas   \n",
       "1034  2011       MG   Norte de Minas   \n",
       "1046  2011       MG   Norte de Minas   \n",
       "1058  2011       MG   Norte de Minas   \n",
       "\n",
       "                                        descricao_secao  quociente_localizacao  \n",
       "820   Administração Pública, Defesa E Seguridade Social                   1.62  \n",
       "832   Agricultura, Pecuária, Produção Florestal, Pes...                   1.06  \n",
       "844                            Alojamento E Alimentação                   0.68  \n",
       "856                 Artes, Cultura, Esporte E Recreação                   0.82  \n",
       "868   Atividades Administrativas E Serviços Compleme...                   0.52  \n",
       "880   Atividades Financeiras, De Seguros E Serviços ...                   0.56  \n",
       "892                             Atividades Imobiliárias                   0.43  \n",
       "904    Atividades Profissionais, Científicas E Técnicas                   0.56  \n",
       "916   Comércio; Reparação De Veículos Automotores E ...                   1.21  \n",
       "928                                          Construção                   0.61  \n",
       "940                                            Educação                   1.30  \n",
       "952                                  Eletricidade E Gás                   0.21  \n",
       "964                         Indústrias De Transformação                   0.66  \n",
       "976                               Indústrias Extrativas                   0.57  \n",
       "988                            Informação E Comunicação                   0.46  \n",
       "998   Organismos Internacionais E Outras Instituiçõe...                   0.93  \n",
       "1010                      Outras Atividades De Serviços                   1.63  \n",
       "1022                    Saúde Humana E Serviços Sociais                   1.05  \n",
       "1034                                Serviços Domésticos                   0.85  \n",
       "1046                  Transporte, Armazenagem E Correio                   0.93  \n",
       "1058  Água, Esgoto, Atividades De Gestão De Resíduos...                   1.00  "
      ]
     },
     "execution_count": 66,
     "metadata": {},
     "output_type": "execute_result"
    }
   ],
   "source": [
    "df.query('nome_mesorregiao == \"Norte de Minas\"')"
   ]
  },
  {
   "cell_type": "markdown",
   "id": "692def75",
   "metadata": {},
   "source": [
    "---"
   ]
  }
 ],
 "metadata": {
  "kernelspec": {
   "display_name": "Python 3",
   "language": "python",
   "name": "python3"
  },
  "language_info": {
   "codemirror_mode": {
    "name": "ipython",
    "version": 3
   },
   "file_extension": ".py",
   "mimetype": "text/x-python",
   "name": "python",
   "nbconvert_exporter": "python",
   "pygments_lexer": "ipython3",
   "version": "3.13.0"
  }
 },
 "nbformat": 4,
 "nbformat_minor": 5
}
