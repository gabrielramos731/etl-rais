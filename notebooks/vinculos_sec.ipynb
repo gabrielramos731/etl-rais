{
 "cells": [
  {
   "cell_type": "code",
   "execution_count": 7,
   "id": "0f3b149b",
   "metadata": {},
   "outputs": [],
   "source": [
    "import pandas as pd\n",
    "import os"
   ]
  },
  {
   "cell_type": "markdown",
   "id": "226e26f2",
   "metadata": {},
   "source": [
    "# RAIS"
   ]
  },
  {
   "cell_type": "markdown",
   "id": "e615da20",
   "metadata": {},
   "source": [
    "## Vínculos\n"
   ]
  },
  {
   "cell_type": "code",
   "execution_count": 8,
   "id": "c273662c",
   "metadata": {},
   "outputs": [],
   "source": [
    "def read_data(caminho, ano, uf)-> pd.DataFrame:\n",
    "    '''Read the ESTB data from a file and return a DataFrame.'''\n",
    "    colunas = ['CNAE 2.0 Classe', 'Município']\n",
    "    df_vinc = pd.read_csv(f'{caminho}{ano}/{uf}', sep=';', encoding='latin1', usecols=colunas)  # voltar para cá a cada UF\n",
    "    df_vinc['ano'] = ano\n",
    "\n",
    "    return df_vinc, 'txt'"
   ]
  },
  {
   "cell_type": "code",
   "execution_count": 9,
   "id": "0cf6efa7",
   "metadata": {},
   "outputs": [],
   "source": [
    "def transform_data(df, extensao) -> pd.DataFrame:\n",
    "    '''Normaliza o tipo de cada coluna e obtem a cnae_secao de cnae_2'''\n",
    "    \n",
    "    if extensao == 'txt':\n",
    "        df.rename(columns={'Município': 'id_municipio', 'CNAE 2.0 Classe': 'cnae_2'}, inplace=True)\t\n",
    "        df = df[['ano', 'id_municipio', 'cnae_2']]\n",
    "        df.dropna(inplace=True)\n",
    "    elif extensao == 'csv':\n",
    "        df.dropna(inplace=True)\n",
    "        df['id_municipio'] = df['id_municipio'].astype('int')\n",
    "        df['id_municipio'] = df['id_municipio'].apply(lambda x: int(x/10)) # remove 7'th dígito\n",
    "    \n",
    "    # para todos\n",
    "    df['ano'] = df['ano'].astype('int16')\n",
    "    \n",
    "    df['id_municipio'] = df['id_municipio'].astype('int')\n",
    "    \n",
    "    df.loc[:, 'cnae_2'] = df['cnae_2'].apply(lambda x: str(x).zfill(5))\n",
    "    df['cnae_secao'] = df['cnae_2'].apply(lambda x: x[:2]) # 2 primeiros dígitos -> seção\n",
    "    df['cnae_secao'] = df['cnae_secao'].astype('int')\n",
    "    df.drop(columns=['cnae_2'], inplace=True)\n",
    "    return df"
   ]
  },
  {
   "cell_type": "code",
   "execution_count": 10,
   "id": "5b1e1246",
   "metadata": {},
   "outputs": [],
   "source": [
    "def merge_municipios(df, caminho, loc) -> pd.DataFrame:\n",
    "    '''Faz o merge do id_municipio com os dados do dicionário'''\n",
    "    \n",
    "    if loc == 'meso':\n",
    "        colunas_muni = ['id_municipio_6', 'sigla_uf', 'id_mesorregiao', 'nome_mesorregiao']\n",
    "    elif loc == 'micro':\n",
    "        colunas_muni = ['id_municipio_6', 'sigla_uf', 'id_microrregiao', 'nome_microrregiao', 'id_mesorregiao']\n",
    "    elif loc == 'muni':\n",
    "        colunas_muni = ['id_municipio_6', 'sigla_uf', 'centroide', 'nome', 'id_microrregiao']\n",
    "    dicionario_muni = pd.read_csv(caminho, sep=',', usecols=colunas_muni)\n",
    "    dicionario_muni.rename(columns={'id_municipio_6': 'id_municipio', 'nome': 'municipio'}, inplace=True)\n",
    "    \n",
    "    df = pd.merge(df, dicionario_muni, on='id_municipio', how='left')\n",
    "    return df"
   ]
  },
  {
   "cell_type": "code",
   "execution_count": 11,
   "id": "a007ad2e",
   "metadata": {},
   "outputs": [],
   "source": [
    "def merge_cnae(df, caminho) -> pd.DataFrame:\n",
    "    \n",
    "    colunas_tmp = ['divisao','descricao_secao']\n",
    "    df_cnae = pd.read_csv(caminho, usecols=colunas_tmp)\n",
    "    df_cnae.rename(columns={'divisao': 'cnae_secao'}, inplace=True)\n",
    "    df_cnae.drop_duplicates(inplace=True)   \n",
    "    \n",
    "    df = pd.merge(df, df_cnae, on='cnae_secao', how='left')\n",
    "    df.drop(columns=['cnae_secao'], inplace=True)\n",
    "    return df"
   ]
  },
  {
   "cell_type": "code",
   "execution_count": 12,
   "id": "d38a427e",
   "metadata": {},
   "outputs": [],
   "source": [
    "def calc_ql(df, loc='meso') -> pd.DataFrame:\n",
    "    \n",
    "    if loc == 'meso':\n",
    "        numerador = df.groupby(['ano', 'sigla_uf', 'id_mesorregiao', 'descricao_secao']).size() / df.groupby(['ano', 'sigla_uf', 'id_mesorregiao']).size()\n",
    "        denominador = df.groupby(['ano', 'sigla_uf', 'descricao_secao']).size() / df.groupby(['ano', 'sigla_uf']).size()\n",
    "        ql = numerador / denominador\n",
    "        ql = ql.reset_index()\n",
    "        ql.columns = ['ano', 'sigla_uf', 'id_mesorregiao', 'descricao_secao', 'quociente_localizacao']\n",
    "        \n",
    "    elif loc == 'micro':\n",
    "        numerador = df.groupby(['ano', 'sigla_uf', 'id_microrregiao', 'descricao_secao']).size() / df.groupby(['ano', 'sigla_uf', 'id_microrregiao']).size()\n",
    "        denominador = df.groupby(['ano', 'sigla_uf', 'descricao_secao']).size() / df.groupby(['ano', 'sigla_uf']).size()\n",
    "        ql = numerador / denominador\n",
    "        ql = ql.reset_index()\n",
    "        ql.columns = ['ano', 'sigla_uf', 'id_microrregiao', 'descricao_secao', 'quociente_localizacao']\n",
    "        \n",
    "    elif loc == 'muni':\n",
    "        numerador = df.groupby(['ano', 'sigla_uf', 'id_municipio', 'descricao_secao']).size() / df.groupby(['ano', 'sigla_uf', 'id_municipio']).size()\n",
    "        denominador = df.groupby(['ano', 'sigla_uf', 'descricao_secao']).size() / df.groupby(['ano', 'sigla_uf']).size()\n",
    "        ql = numerador / denominador\n",
    "        ql = ql.reset_index()\n",
    "        ql.columns = ['ano', 'sigla_uf', 'id_municipio', 'descricao_secao', 'quociente_localizacao']\n",
    "        \n",
    "    ql['quociente_localizacao'] = ql['quociente_localizacao'].map(lambda x: float(f\"{x:.2f}\"))\n",
    "\n",
    "    return ql"
   ]
  },
  {
   "cell_type": "code",
   "execution_count": 13,
   "id": "d5d72e8b",
   "metadata": {},
   "outputs": [],
   "source": [
    "def etl_pipeline(caminhos, ano_ini, ano_fim, loc):\n",
    "\n",
    "    dfs_ql = []\n",
    "    for ano in range(ano_ini, ano_fim+1):\n",
    "        ufs = os.listdir(os.path.join(caminhos['rais'], str(ano)))\n",
    "        for arq_uf in ufs:\n",
    "            df, extensao = read_data(caminhos['rais'], str(ano), arq_uf)\n",
    "            df = transform_data(df, extensao)\n",
    "            df = merge_municipios(df, caminhos['municipios'], loc)\n",
    "            df = merge_cnae(df, caminhos['cnae'])\n",
    "            dfs_ql.append(calc_ql(df, loc))\n",
    "            \n",
    "    df = pd.concat(dfs_ql)\n",
    "    return df"
   ]
  },
  {
   "cell_type": "markdown",
   "id": "8ed1a523",
   "metadata": {},
   "source": [
    "---"
   ]
  },
  {
   "cell_type": "code",
   "execution_count": 14,
   "id": "47526d20",
   "metadata": {},
   "outputs": [],
   "source": [
    "from joblib import Parallel, delayed\n",
    "from pathlib import Path\n",
    "\n",
    "def processar_loc(loc):\n",
    "    \n",
    "    df_ql = etl_pipeline(caminhos, ano_ini, ano_fim, loc)\n",
    "    path_out = Path(f\"C:/dev/ndti/rais/indices/vinculos/ref_estadual/indice_qe_secao_{loc}.csv\")\n",
    "    path_out.parent.mkdir(exist_ok=True)\n",
    "    df_ql.to_csv(path_out, sep=';', index=False)\n",
    "    print(f'--- {loc} concluído ---')\n",
    "    return loc\n",
    "\n",
    "# Parâmetros globais\n",
    "caminho = \"D:/dados/rais/vinculos/extraidos/\"\n",
    "caminho_dict_muni = \"D:/dados/rais/dicionarios/dicionario_municipios.csv\"\n",
    "caminho_dict_cnae = \"D:/dados/rais/dicionarios/dicionario_cnae_2.csv\"\n",
    "ano_ini = 2007\n",
    "ano_fim = 2024\n",
    "caminhos = {'rais': caminho, \n",
    "            'municipios': caminho_dict_muni, \n",
    "            'cnae': caminho_dict_cnae}\n",
    "\n",
    "resultados = Parallel(n_jobs=3)(delayed(processar_loc)(loc) for loc in ['meso', 'micro', 'muni'])"
   ]
  }
 ],
 "metadata": {
  "kernelspec": {
   "display_name": "Python 3",
   "language": "python",
   "name": "python3"
  },
  "language_info": {
   "codemirror_mode": {
    "name": "ipython",
    "version": 3
   },
   "file_extension": ".py",
   "mimetype": "text/x-python",
   "name": "python",
   "nbconvert_exporter": "python",
   "pygments_lexer": "ipython3",
   "version": "3.13.0"
  }
 },
 "nbformat": 4,
 "nbformat_minor": 5
}
